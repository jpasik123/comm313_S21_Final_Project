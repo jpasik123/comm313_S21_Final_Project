{
 "cells": [
  {
   "cell_type": "markdown",
   "metadata": {},
   "source": [
    "## COMM 313 Final Project - Blog Post / Data Story \n",
    "### Jessica Pasik"
   ]
  },
  {
   "cell_type": "markdown",
   "metadata": {},
   "source": [
    "## Additional Modules"
   ]
  },
  {
   "cell_type": "code",
   "execution_count": 2,
   "metadata": {},
   "outputs": [],
   "source": [
    "#Additional modules\n",
    "import os\n",
    "import pandas as pd\n",
    "import re\n",
    "import json\n",
    "import requests\n",
    "from bs4 import BeautifulSoup\n",
    "import lyricsgenius\n",
    "from collections import Counter\n",
    "import nltk\n",
    "from nltk import Text\n",
    "nltk.download('stopwords')\n",
    "from nltk.corpus import stopwords\n",
    "stop_words = stopwords.words('english')\n",
    "sect_stoppers = ['pre-chorus','refrain','chorus','verse','intro','outro','bridge','verse 1','verse 2','verse 3','verse 4','1','2','3','4','Tim McGraw','Faith Hill','Tim McGraw & Faith Hill']\n",
    "for x in sect_stoppers:\n",
    "    stop_words.append(x)\n",
    "# pos tagging\n",
    "from nltk import pos_tag, pos_tag_sents, FreqDist, ConditionalFreqDist"
   ]
  },
  {
   "cell_type": "code",
   "execution_count": 4,
   "metadata": {},
   "outputs": [],
   "source": [
    "%run '../data_analysis/functions.ipynb'"
   ]
  },
  {
   "cell_type": "code",
   "execution_count": 12,
   "metadata": {},
   "outputs": [
    {
     "name": "stdout",
     "output_type": "stream",
     "text": [
      "Top 50 words in your `all_90s` corpus\n",
      "==================================\n",
      "[('love', 108), (\"i'm\", 75), ('know', 74), ('oh', 70), ('yeah', 56), ('like', 55), ('got', 50), ('get', 47), ('let', 47), ('little', 45), ('wanna', 44), (\"ain't\", 42), ('one', 38), ('never', 38), ('way', 37), ('tell', 36), ('girl', 35), (\"i've\", 35), ('take', 34), ('ya', 34), ('come', 33), ('say', 33), ('go', 33), ('boy', 32), ('said', 32), ('make', 32), ('baby', 30), ('heart', 30), ('away', 29), ('gonna', 28), ('think', 28), ('well', 27), ('right', 27), ('maria', 27), ('time', 26), ('man', 25), ('ever', 25), ('feel', 25), ('want', 24), ('night', 22), ('would', 22), ('knows', 22), ('world', 21), ('hey', 21), (\"can't\", 21), ('kiss', 21), ('maybe', 19), ('really', 19), ('passionate', 19), ('kisses', 19)]\n",
      "Top 50 # of songs each type occurs in your `all_90s` corpus\n",
      "==================================\n",
      "[('know', 22), (\"i'm\", 21), ('like', 20), ('love', 19), ('oh', 19), ('night', 19), ('got', 18), ('one', 18), ('said', 17), ('never', 17), ('get', 16), (\"ain't\", 15), ('right', 15), (\"i've\", 15), ('man', 14), ('come', 14), ('time', 14), ('let', 14), ('go', 14), ('take', 14), ('way', 13), ('long', 13), ('baby', 13), ('gonna', 12), ('away', 12), ('yeah', 12), ('little', 11), ('say', 11), ('back', 11), ('heart', 11), ('world', 10), ('eyes', 10), ('make', 10), ('girl', 10), ('last', 9), ('boy', 9), ('good', 9), ('every', 9), ('tell', 9), ('day', 9), (\"can't\", 9), ('says', 8), ('life', 8), ('see', 8), ('well', 8), ('took', 8), ('want', 8), (\"there's\", 8), ('ever', 8), ('around', 8)]\n",
      "Top 50 bigrams in your `all_90s` corpus\n",
      "==================================\n",
      "[('passionate kisses', 19), ('little goodbyes', 16), ('ay yeah', 16), (\"i'm hurry\", 14), ('love start', 14), (\"start slippin'\", 14), ('would ya', 14), ('love boy', 13), ('kisses passionate', 13), ('know beautiful', 13), ('way love', 12), (\"i've got\", 12), ('maria oh', 12), ('oh marie', 12), ('marie love', 12), ('love girl', 12), ('walkaway joe', 11), ('yeah yeah', 9), ('kiss kiss', 9), ('got friends', 9), ('friends low', 9), ('low places', 9), ('tim mcgraw', 9), ('yeah ay', 9), ('boy love', 8), (\"here's one\", 8), ('one chance', 8), ('chance fancy', 8), ('fancy let', 8), ('hey hey', 8), ('really gotta', 8), ('tell heart', 8), ('heart achy', 8), ('achy breaky', 8), ('breaky heart', 8), ('like love', 8), ('say wanna', 8), ('wanna get', 8), ('live without', 7), ('want know', 7), ('feel like', 7), ('watermelon crawl', 7), ('try think', 7), ('chasing neon', 7), ('neon rainbow', 7), ('living honkytonk', 7), ('honkytonk dream', 7), ('hurry get', 7), ('get things', 7), ('things done', 7)]\n",
      "Top 50 trigrams in your `all_90s` corpus\n",
      "==================================\n",
      "[(\"love start slippin'\", 14), ('passionate kisses passionate', 13), ('kisses passionate kisses', 13), ('maria oh marie', 12), ('oh marie love', 12), ('marie love girl', 12), ('got friends low', 9), ('friends low places', 9), ('ay yeah ay', 9), ('yeah ay yeah', 9), ('love boy love', 8), ('boy love boy', 8), (\"here's one chance\", 8), ('one chance fancy', 8), ('chance fancy let', 8), ('tell heart achy', 8), ('heart achy breaky', 8), ('achy breaky heart', 8), ('chasing neon rainbow', 7), ('living honkytonk dream', 7), (\"i'm hurry get\", 7), ('hurry get things', 7), ('get things done', 7), (\"rush rush life's\", 7), (\"rush life's fun\", 7), (\"life's fun really\", 7), ('fun really gotta', 7), ('really gotta live', 7), ('gotta live die', 7), (\"live die i'm\", 7), (\"die i'm hurry\", 7), (\"i'm hurry know\", 7), ('let love start', 7), (\"start slippin' love\", 7), (\"slippin' love start\", 7), (\"start slippin' away\", 7), ('could ya would', 7), ('ya would ya', 7), (\"would ya ain't\", 7), (\"ya ain't ya\", 7), (\"ain't ya gonna\", 7), ('ya gonna asked', 7), ('gonna asked would', 7), ('asked would ya', 7), ('would ya wanna', 7), ('ya wanna baby', 7), ('wanna baby tonight', 7), ('tim mcgraw &', 7), ('mcgraw & faith', 7), ('& faith hill', 7)]\n",
      "the average type-token ratio among `all_90s` songs is 40.612394807300554\n",
      "Top 50 words in your `all_2010s` corpus\n",
      "==================================\n",
      "[('like', 108), (\"i'm\", 97), ('yeah', 87), ('back', 80), ('little', 62), ('get', 60), ('got', 58), (\"ain't\", 53), ('baby', 52), ('every', 51), ('know', 46), ('never', 45), ('gonna', 43), ('oh', 42), ('take', 40), (\"'em\", 39), ('make', 38), ('right', 36), ('one', 36), ('oooh', 36), ('see', 35), ('go', 35), ('road', 34), ('good', 33), ('need', 33), ('hope', 33), ('think', 32), ('way', 31), ('rock', 31), ('away', 30), ('ever', 29), ('mama', 29), ('around', 28), ('hey', 28), ('heart', 27), ('name', 27), ('wanna', 27), ('could', 26), ('changed', 25), (\"'cause\", 24), ('night', 24), (\"i'll\", 23), ('thing', 22), ('dirt', 22), ('girl', 22), ('song', 22), ('free', 22), ('man', 21), ('come', 21), (\"can't\", 21)]\n",
      "Top 50 # of songs each type occurs in your `all_2010s` corpus\n",
      "==================================\n",
      "[('like', 23), ('back', 22), ('get', 22), ('yeah', 21), (\"i'm\", 19), ('know', 18), ('go', 18), ('got', 17), (\"ain't\", 17), ('take', 15), ('one', 15), ('good', 14), ('right', 14), ('baby', 14), ('little', 14), ('time', 13), ('see', 13), ('oh', 13), ('way', 13), ('never', 12), ('heart', 12), ('make', 12), ('around', 12), ('every', 11), (\"i'll\", 11), ('look', 11), ('night', 11), ('come', 11), ('gonna', 10), (\"'cause\", 10), ('place', 10), ('put', 10), ('need', 10), (\"can't\", 10), ('think', 10), ('feel', 10), ('ever', 9), ('old', 9), ('turn', 9), ('say', 9), ('love', 9), ('day', 9), ('road', 9), ('well', 9), ('sun', 9), ('man', 8), ('said', 8), ('smile', 8), ('thought', 8), (\"we're\", 8)]\n",
      "Top 50 bigrams in your `all_2010s` corpus\n",
      "==================================\n",
      "[('oooh oooh', 34), ('blown away', 19), ('got name', 19), ('name changed', 18), ('changed back', 18), ('every little', 18), ('rock mama', 18), ('yeah yeah', 15), ('little thing', 15), ('take road', 14), ('road less', 14), ('less traveled', 14), ('whiskey glasses', 13), ('afraid take', 12), ('back yeah', 12), ('little bit', 12), ('make wanna', 12), ('mama like', 12), (\"like i'm\", 11), ('little dirt', 11), ('dirt boots', 11), (\"god's country\", 11), ('goes like', 11), ('taste tequila', 11), ('roll windows', 10), ('got little', 10), ('always stay', 10), ('stay humble', 10), ('humble kind', 10), ('mama rock', 10), ('broken halos', 10), (\"let 'em\", 9), ('back road', 9), ('bit stronger', 9), (\"i'm getting\", 9), (\"i'm done\", 9), ('windows cruise', 9), (\"line 'em\", 9), (\"knock 'em\", 9), (\"i'ma need\", 9), ('drunk plane', 9), ('never gonna', 8), ('oh oohwhoa', 8), ('something water', 8), (\"i'm gonna\", 8), ('might little', 8), ('baby song', 8), ('song make', 8), ('wanna roll', 8), ('like back', 8)]\n",
      "Top 50 trigrams in your `all_2010s` corpus\n",
      "==================================\n",
      "[('oooh oooh oooh', 32), ('got name changed', 18), ('name changed back', 18), ('take road less', 14), ('road less traveled', 14), ('every little thing', 14), ('changed back yeah', 12), ('back yeah yeah', 12), ('rock mama like', 12), ('little dirt boots', 11), ('always stay humble', 10), ('stay humble kind', 10), ('afraid take road', 9), ('little bit stronger', 9), ('baby song make', 8), ('song make wanna', 8), ('make wanna roll', 8), ('wanna roll windows', 8), ('roll windows cruise', 8), (\"knock 'em back\", 8), ('hey mama rock', 8), ('blown away blown', 7), ('away blown away', 7), ('see world whiskey', 7), ('world whiskey glasses', 7), (\"i'm getting drunk\", 7), ('getting drunk plane', 7), ('broken halos used', 7), ('halos used shine', 7), ('yeah guess that’s', 6), ('guess that’s church', 6), ('follow arrow wherever', 6), ('arrow wherever points', 6), ('girl country song', 6), ('must something water', 6), ('hope cheats like', 6), ('remember every little', 6), ('got little dirt', 6), (\"free free we'll\", 6), (\"free we'll ever\", 6), ('woahohohoh woahohohoh woahohohohohohoh', 6), (\"i'ma need whiskey\", 6), ('need whiskey glasses', 6), (\"line 'em line\", 6), (\"'em line 'em\", 6), (\"'em back knock\", 6), (\"back knock 'em\", 6), (\"fill 'em fill\", 6), (\"'em fill 'em\", 6), ('never gonna man', 5)]\n",
      "the average type-token ratio among 2010s songs is 39.877300613496956\n",
      "Top 50 words in your `all_female` corpus\n",
      "==================================\n",
      "[('yeah', 83), ('like', 65), ('little', 64), ('oh', 61), (\"i'm\", 58), ('get', 52), ('got', 51), ('know', 50), ('love', 49), ('back', 49), ('every', 46), ('never', 44), ('let', 43), (\"ain't\", 40), ('way', 40), ('one', 39), ('away', 38), ('gonna', 38), ('ever', 37), ('take', 37), ('go', 35), ('hope', 35), ('boy', 34), ('said', 34), ('baby', 31), ('well', 27), ('kiss', 27), ('right', 26), ('make', 26), ('time', 25), ('thing', 25), ('feel', 25), ('could', 25), ('changed', 25), ('good', 24), ('prechorus', 24), ('heart', 24), ('say', 23), ('hey', 23), ('come', 22), ('name', 22), ('day', 22), ('put', 22), ('maybe', 22), ('knows', 22), (\"i've\", 22), ('think', 22), ('road', 21), ('man', 21), ('left', 21)]\n",
      "Top 50 # of songs each type occurs in your `all_female` corpus\n",
      "==================================\n",
      "[('like', 21), ('one', 20), ('get', 19), ('back', 19), ('oh', 18), ('got', 16), ('said', 16), ('know', 16), ('good', 16), (\"i'm\", 16), ('yeah', 16), (\"ain't\", 15), ('time', 15), ('take', 15), ('gonna', 14), ('little', 14), ('go', 14), ('love', 13), ('come', 13), ('baby', 13), ('heart', 13), ('right', 13), ('way', 12), ('away', 12), ('every', 12), ('around', 12), ('never', 12), ('man', 11), ('let', 11), ('say', 11), ('night', 11), ('prechorus', 11), ('ever', 11), ('put', 11), ('make', 11), ('look', 10), ('world', 10), ('well', 10), ('made', 10), ('day', 10), (\"i've\", 10), ('last', 9), ('town', 9), ('left', 9), ('life', 9), ('see', 9), ('tell', 9), (\"'cause\", 9), ('still', 8), ('daddy', 8)]\n",
      "Top 50 bigrams in your `all_female` corpus\n",
      "==================================\n",
      "[('yeah yeah', 24), ('passionate kisses', 19), ('got name', 19), ('name changed', 18), ('changed back', 18), ('little goodbyes', 16), ('blown away', 16), ('little thing', 15), ('take road', 14), ('road less', 14), ('less traveled', 14), ('every little', 14), ('love boy', 13), ('kisses passionate', 13), ('way love', 12), ('little bit', 12), ('back yeah', 12), ('walkaway joe', 11), ('kiss kiss', 9), (\"let 'em\", 9), ('afraid take', 9), ('bit stronger', 9), (\"i'm done\", 9), ('boy love', 8), (\"here's one\", 8), ('one chance', 8), ('chance fancy', 8), ('fancy let', 8), ('get little', 8), ('best thing', 8), ('hey hey', 8), ('never gonna', 8), ('oh oohwhoa', 8), ('something water', 8), ('live without', 7), ('watermelon crawl', 7), ('try think', 7), ('away blown', 7), ('burning house', 7), (\"like i'm\", 7), ('miranda lambert', 7), ('black like', 7), ('independence day', 6), ('feel like', 6), (\"i've got\", 6), ('strawberry wine', 6), (\"oh i'm\", 6), ('heads carolina', 6), ('carolina tails', 6), ('tails california', 6)]\n",
      "Top 50 trigrams in your `all_female` corpus\n",
      "==================================\n",
      "[('got name changed', 18), ('name changed back', 18), ('take road less', 14), ('road less traveled', 14), ('every little thing', 14), ('passionate kisses passionate', 13), ('kisses passionate kisses', 13), ('changed back yeah', 12), ('back yeah yeah', 12), ('afraid take road', 9), ('little bit stronger', 9), ('love boy love', 8), ('boy love boy', 8), (\"here's one chance\", 8), ('one chance fancy', 8), ('chance fancy let', 8), ('blown away blown', 7), ('away blown away', 7), ('heads carolina tails', 6), ('carolina tails california', 6), ('yeah guess that’s', 6), ('guess that’s church', 6), ('follow arrow wherever', 6), ('arrow wherever points', 6), ('girl country song', 6), ('must something water', 6), ('hope cheats like', 6), ('remember every little', 6), (\"said here's one\", 5), ('feel way feel', 5), ('wide open spaces', 5), ('knows high stakes', 5), ('like strawberry wine', 5), ('feeling like centrifugal', 5), ('like centrifugal motion', 5), ('never gonna man', 5), (\"careless man's careful\", 5), (\"man's careful daughter\", 5), ('careful daughter best', 5), ('daughter best thing', 5), (\"best thing that's\", 5), (\"thing that's ever\", 5), (\"that's ever mine\", 5), ('less traveled wear', 5), ('traveled wear boots', 5), ('wear boots kick', 5), ('boots kick gravel', 5), ('kick gravel afraid', 5), ('gravel afraid take', 5), ('yeah yeah got', 5)]\n"
     ]
    },
    {
     "name": "stdout",
     "output_type": "stream",
     "text": [
      "Top 50 words in your `all_male` corpus\n",
      "==================================\n",
      "[(\"i'm\", 114), ('like', 98), ('love', 78), ('know', 70), ('yeah', 60), ('got', 57), ('wanna', 57), ('get', 55), (\"ain't\", 55), ('oh', 51), ('baby', 51), ('ya', 48), ('back', 46), ('make', 44), ('little', 43), ('girl', 40), ('never', 39), ('think', 38), ('take', 37), ('right', 37), ('oooh', 36), ('one', 35), ('see', 34), ('heart', 33), ('go', 33), ('gonna', 33), ('come', 32), ('tell', 31), ('rock', 30), ('night', 29), (\"can't\", 29), (\"i've\", 28), ('way', 28), ('mama', 28), (\"'em\", 28), ('need', 28), ('maria', 27), ('hey', 26), ('say', 25), ('man', 25), ('around', 25), (\"i'll\", 24), ('whiskey', 23), ('world', 23), ('beautiful', 23), ('let', 22), ('away', 21), ('time', 21), ('good', 21), ('would', 20)]\n",
      "Top 50 # of songs each type occurs in your `all_male` corpus\n",
      "==================================\n",
      "[('know', 24), (\"i'm\", 24), ('like', 22), ('night', 19), ('get', 19), ('got', 19), ('go', 18), ('never', 17), ('yeah', 17), (\"ain't\", 17), ('right', 16), ('love', 15), ('oh', 14), ('take', 14), ('back', 14), ('way', 14), ('baby', 14), ('one', 13), (\"can't\", 13), (\"i've\", 13), ('time', 12), ('come', 12), ('see', 12), ('feel', 12), ('man', 11), ('little', 11), ('girl', 11), ('make', 11), ('long', 11), ('heart', 10), ('eyes', 10), ('think', 10), ('new', 9), ('say', 9), ('said', 9), (\"'cause\", 9), ('old', 9), ('let', 9), ('thought', 8), ('place', 8), ('tell', 8), ('world', 8), (\"i'll\", 8), ('gonna', 8), (\"there's\", 8), ('sweet', 8), ('around', 8), ('really', 8), ('hey', 8), ('every', 8)]\n",
      "Top 50 bigrams in your `all_male` corpus\n",
      "==================================\n",
      "[('oooh oooh', 34), ('rock mama', 18), ('ay yeah', 16), (\"i'm hurry\", 14), ('love start', 14), (\"start slippin'\", 14), ('would ya', 14), ('know beautiful', 13), ('whiskey glasses', 13), ('maria oh', 12), ('oh marie', 12), ('marie love', 12), ('love girl', 12), ('make wanna', 12), ('mama like', 12), ('got little', 11), ('little dirt', 11), ('dirt boots', 11), (\"god's country\", 11), ('goes like', 11), ('taste tequila', 11), ('always stay', 10), ('stay humble', 10), ('humble kind', 10), ('mama rock', 10), ('broken halos', 10), ('got friends', 9), ('friends low', 9), ('low places', 9), (\"i'm gonna\", 9), ('tim mcgraw', 9), ('yeah ay', 9), ('roll windows', 9), ('windows cruise', 9), (\"line 'em\", 9), (\"knock 'em\", 9), (\"i'ma need\", 9), ('drunk plane', 9), (\"i've got\", 8), ('tell heart', 8), ('heart achy', 8), ('achy breaky', 8), ('breaky heart', 8), ('like love', 8), ('baby tonight', 8), ('say wanna', 8), ('wanna get', 8), ('might little', 8), ('baby song', 8), ('song make', 8)]\n",
      "Top 50 trigrams in your `all_male` corpus\n",
      "==================================\n",
      "[('oooh oooh oooh', 32), (\"love start slippin'\", 14), ('maria oh marie', 12), ('oh marie love', 12), ('marie love girl', 12), ('rock mama like', 12), ('little dirt boots', 11), ('always stay humble', 10), ('stay humble kind', 10), ('got friends low', 9), ('friends low places', 9), ('ay yeah ay', 9), ('yeah ay yeah', 9), ('tell heart achy', 8), ('heart achy breaky', 8), ('achy breaky heart', 8), ('baby song make', 8), ('song make wanna', 8), ('make wanna roll', 8), ('wanna roll windows', 8), ('roll windows cruise', 8), (\"knock 'em back\", 8), ('hey mama rock', 8), ('chasing neon rainbow', 7), ('living honkytonk dream', 7), (\"i'm hurry get\", 7), ('hurry get things', 7), ('get things done', 7), (\"rush rush life's\", 7), (\"rush life's fun\", 7), (\"life's fun really\", 7), ('fun really gotta', 7), ('really gotta live', 7), ('gotta live die', 7), (\"live die i'm\", 7), (\"die i'm hurry\", 7), (\"i'm hurry know\", 7), ('let love start', 7), (\"start slippin' love\", 7), (\"slippin' love start\", 7), (\"start slippin' away\", 7), ('could ya would', 7), ('ya would ya', 7), (\"would ya ain't\", 7), (\"ya ain't ya\", 7), (\"ain't ya gonna\", 7), ('ya gonna asked', 7), ('gonna asked would', 7), ('asked would ya', 7), ('would ya wanna', 7)]\n",
      "Top 50 words in your `female_90s` corpus\n",
      "==================================\n",
      "[('love', 37), ('oh', 31), ('like', 29), ('let', 29), ('little', 28), ('know', 28), ('yeah', 27), ('boy', 26), ('way', 26), ('go', 23), ('one', 22), ('said', 22), ('knows', 21), ('got', 20), ('baby', 19), ('maybe', 19), ('passionate', 19), ('kisses', 19), ('kiss', 19), ('gonna', 18), ('well', 18), (\"i'm\", 18), ('ever', 18), ('feel', 18), ('right', 17), ('get', 16), ('goodbyes', 16), ('hey', 15), ('think', 15), (\"ain't\", 14), ('man', 14), ('say', 14), ('without', 14), ('back', 13), ('took', 13), ('day', 13), ('make', 13), ('earl', 13), ('away', 12), ('come', 12), ('mama', 12), ('want', 12), ('left', 12), ('prechorus', 12), ('tell', 12), ('ohohoh', 12), ('never', 12), ('long', 11), ('take', 11), ('somewhere', 11)]\n",
      "Top 50 # of songs each type occurs in your `female_90s` corpus\n",
      "==================================\n",
      "[('oh', 11), ('like', 10), ('one', 10), ('said', 10), ('know', 9), ('back', 9), ('got', 8), (\"ain't\", 8), ('man', 8), ('gonna', 8), ('love', 8), ('come', 8), ('get', 8), ('good', 8), (\"i'm\", 8), ('baby', 8), ('go', 8), ('take', 8), ('way', 7), ('away', 7), ('long', 7), ('time', 7), ('let', 7), ('night', 7), ('right', 7), ('boy', 6), ('town', 6), ('left', 6), ('little', 6), ('yeah', 6), ('never', 6), ('still', 5), ('talk', 5), ('mama', 5), ('life', 5), ('well', 5), ('took', 5), ('want', 5), ('say', 5), ('every', 5), ('summer', 5), ('tell', 5), ('prechorus', 5), ('need', 5), ('day', 5), ('around', 5), ('make', 5), (\"let's\", 5), (\"i've\", 5), ('tonight', 4)]\n",
      "Top 50 bigrams in your `female_90s` corpus\n",
      "==================================\n",
      "[('passionate kisses', 19), ('little goodbyes', 16), ('love boy', 13), ('kisses passionate', 13), ('way love', 12), ('walkaway joe', 11), ('yeah yeah', 9), ('kiss kiss', 9), ('boy love', 8), (\"here's one\", 8), ('one chance', 8), ('chance fancy', 8), ('fancy let', 8), ('hey hey', 8), ('live without', 7), ('watermelon crawl', 7), ('try think', 7), ('independence day', 6), ('feel like', 6), ('strawberry wine', 6), ('heads carolina', 6), ('carolina tails', 6), ('tails california', 6), ('lord knows', 6), (\"said here's\", 5), ('oh oh', 5), ('wide open', 5), ('open spaces', 5), ('knows high', 5), ('high stakes', 5), ('aahhh aahhh', 5), (\"i've got\", 5), ('like strawberry', 5), ('feeling like', 5), ('like centrifugal', 5), ('centrifugal motion', 5), ('hand says', 4), ('go ever', 4), (\"let's go\", 4), ('totally crazy', 4), ('feel way', 4), ('way feel', 4), ('like woman', 4), ('stakes knows', 4), ('maybe memphis', 4), ('memphis maybe', 4), ('maybe southern', 4), ('southern summer', 4), ('summer nights', 4), ('nights maybe', 4)]\n",
      "Top 50 trigrams in your `female_90s` corpus\n",
      "==================================\n",
      "[('passionate kisses passionate', 13), ('kisses passionate kisses', 13), ('love boy love', 8), ('boy love boy', 8), (\"here's one chance\", 8), ('one chance fancy', 8), ('chance fancy let', 8), ('heads carolina tails', 6), ('carolina tails california', 6), (\"said here's one\", 5), ('wide open spaces', 5), ('knows high stakes', 5), ('like strawberry wine', 5), ('feeling like centrifugal', 5), ('like centrifugal motion', 5), ('feel way feel', 4), ('feel like woman', 4), ('aahhh aahhh aahhh', 4), ('yeah yeah yeah', 4), ('maybe memphis maybe', 4), ('memphis maybe southern', 4), ('maybe southern summer', 4), ('southern summer nights', 4), ('summer nights maybe', 4), ('nights maybe maybe', 4), ('maybe maybe sure', 4), ('maybe sure felt', 4), ('sure felt right', 4), ('perpetual bliss pivotal', 4), ('bliss pivotal moment', 4), ('pivotal moment ah', 4), ('way love baby', 4), ('love baby way', 4), ('baby way love', 4), (\"boy's walkaway joe\", 4), ('brains got short', 3), ('got short end', 3), ('short end stick', 3), ('gonna marry boy', 3), ('marry boy someday', 3), ('ever leave baby', 3), ('leave baby would', 3), ('baby would take', 3), ('would take away', 3), ('take away everything', 3), ('life tell live', 3), ('tell live without', 3), ('live without want', 3), ('without want know', 3), ('want know breathe', 3)]\n",
      "Top 50 words in your `male_90s` corpus\n",
      "==================================\n",
      "[('love', 71), (\"i'm\", 57), ('know', 46), ('oh', 39), ('wanna', 34), ('ya', 34), ('girl', 31), ('get', 31), ('got', 30), ('yeah', 29), (\"ain't\", 28), ('maria', 27), ('never', 26), ('like', 26), ('heart', 25), (\"i've\", 25), ('tell', 24), ('take', 23), ('come', 21), ('say', 19), ('make', 19), ('let', 18), ('huh', 18), ('away', 17), ('little', 17), (\"can't\", 17), ('would', 16), ('one', 16), ('time', 16), (\"i'll\", 16), ('beautiful', 16), ('ay', 16), ('world', 15), ('start', 15), ('night', 14), ('done', 14), ('hurry', 14), ('rush', 14), (\"slippin'\", 14), ('see', 13), ('think', 13), ('gotta', 13), ('dance', 13), ('want', 12), ('marie', 12), ('keep', 12), ('man', 11), ('way', 11), ('friends', 11), ('baby', 11)]\n",
      "Top 50 # of songs each type occurs in your `male_90s` corpus\n",
      "==================================\n",
      "[('know', 13), (\"i'm\", 13), ('night', 12), ('never', 11), ('love', 11), ('like', 10), (\"i've\", 10), ('got', 10), ('oh', 8), ('girl', 8), ('one', 8), ('right', 8), ('get', 8), ('said', 7), ('heart', 7), ('time', 7), ('let', 7), (\"can't\", 7), ('eyes', 7), (\"ain't\", 7), ('yeah', 6), ('man', 6), ('say', 6), ('go', 6), ('world', 6), ('take', 6), ('long', 6), ('sweet', 6), ('way', 6), ('come', 6), ('thought', 5), ('away', 5), (\"'cause\", 5), ('mind', 5), ('little', 5), ('make', 5), ('says', 5), ('last', 5), ('see', 5), ('feel', 5), ('keep', 5), ('baby', 5), ('heard', 4), ('ever', 4), (\"i'd\", 4), ('place', 4), ('tell', 4), ('show', 4), (\"i'll\", 4), ('daddy', 4)]\n",
      "Top 50 bigrams in your `male_90s` corpus\n",
      "==================================\n",
      "[('ay yeah', 16), (\"i'm hurry\", 14), ('love start', 14), (\"start slippin'\", 14), ('would ya', 14), ('know beautiful', 13), ('maria oh', 12), ('oh marie', 12), ('marie love', 12), ('love girl', 12), ('got friends', 9), ('friends low', 9), ('low places', 9), ('tim mcgraw', 9), ('yeah ay', 9), ('tell heart', 8), ('heart achy', 8), ('achy breaky', 8), ('breaky heart', 8), ('like love', 8), ('say wanna', 8), ('wanna get', 8), (\"i've got\", 7), ('chasing neon', 7), ('neon rainbow', 7), ('living honkytonk', 7), ('honkytonk dream', 7), ('hurry get', 7), ('get things', 7), ('things done', 7), ('rush rush', 7), (\"rush life's\", 7), (\"life's fun\", 7), ('fun really', 7), ('really gotta', 7), ('gotta live', 7), ('live die', 7), (\"die i'm\", 7), ('hurry know', 7), ('let love', 7), (\"slippin' love\", 7), (\"slippin' away\", 7), ('could ya', 7), ('ya would', 7), (\"ya ain't\", 7), (\"ain't ya\", 7), ('ya gonna', 7), ('gonna asked', 7), ('asked would', 7), ('ya wanna', 7)]\n",
      "Top 50 trigrams in your `male_90s` corpus\n",
      "==================================\n",
      "[(\"love start slippin'\", 14), ('maria oh marie', 12), ('oh marie love', 12), ('marie love girl', 12), ('got friends low', 9), ('friends low places', 9), ('ay yeah ay', 9), ('yeah ay yeah', 9), ('tell heart achy', 8), ('heart achy breaky', 8), ('achy breaky heart', 8), ('chasing neon rainbow', 7), ('living honkytonk dream', 7), (\"i'm hurry get\", 7), ('hurry get things', 7), ('get things done', 7), (\"rush rush life's\", 7), (\"rush life's fun\", 7), (\"life's fun really\", 7), ('fun really gotta', 7), ('really gotta live', 7), ('gotta live die', 7), (\"live die i'm\", 7), (\"die i'm hurry\", 7), (\"i'm hurry know\", 7), ('let love start', 7), (\"start slippin' love\", 7), (\"slippin' love start\", 7), (\"start slippin' away\", 7), ('could ya would', 7), ('ya would ya', 7), (\"would ya ain't\", 7), (\"ya ain't ya\", 7), (\"ain't ya gonna\", 7), ('ya gonna asked', 7), ('gonna asked would', 7), ('asked would ya', 7), ('would ya wanna', 7), ('ya wanna baby', 7), ('wanna baby tonight', 7), ('tim mcgraw &', 7), ('mcgraw & faith', 7), ('& faith hill', 7), ('whenever come around', 7), ('say wanna get', 7), ('love girl oh', 6), ('girl oh maria', 6), ('oh maria maria', 6), ('maria maria oh', 6), ('love girl maria', 6)]\n",
      "Top 50 words in your `female_2010s` corpus\n",
      "==================================\n",
      "[('yeah', 56), ('every', 40), (\"i'm\", 40), ('back', 36), ('like', 36), ('get', 36), ('little', 36), ('hope', 33), ('never', 32), ('got', 31), ('oh', 30), ('away', 26), ('take', 26), (\"ain't\", 26), ('changed', 25), ('know', 22), ('could', 21), ('name', 21), ('gonna', 20), ('thing', 20), ('heart', 19), ('ever', 19), ('road', 18), ('one', 17), ('blown', 16), ('stronger', 16), ('good', 15), ('time', 15), (\"i'll\", 15), ('traveled', 15), ('let', 14), ('place', 14), ('see', 14), ('put', 14), ('along', 14), ('way', 14), ('less', 14), ('house', 13), ('remember', 13), ('water', 13), ('around', 13), ('make', 13), (\"'em\", 13), ('girl', 13), ('said', 12), ('prechorus', 12), ('love', 12), (\"i've\", 12), ('go', 12), ('find', 12)]\n",
      "Top 50 # of songs each type occurs in your `female_2010s` corpus\n",
      "==================================\n",
      "[('like', 11), ('get', 11), ('yeah', 10), ('back', 10), ('one', 10), ('heart', 9), ('good', 8), ('got', 8), ('time', 8), (\"i'm\", 8), ('little', 8), ('every', 7), ('know', 7), ('ever', 7), ('put', 7), ('take', 7), (\"i'll\", 7), ('look', 7), ('around', 7), ('along', 7), (\"ain't\", 7), ('oh', 7), ('gonna', 6), ('prechorus', 6), (\"'cause\", 6), ('never', 6), ('place', 6), ('said', 6), ('world', 6), ('see', 6), ('make', 6), ('right', 6), ('say', 6), ('made', 6), ('go', 6), ('away', 5), ('keep', 5), ('smile', 5), ('thought', 5), ('daddy', 5), (\"i've\", 5), ('mine', 5), ('turn', 5), ('could', 5), ('last', 5), ('love', 5), (\"i'd\", 5), ('days', 5), ('day', 5), ('way', 5)]\n",
      "Top 50 bigrams in your `female_2010s` corpus\n",
      "==================================\n",
      "[('got name', 19), ('name changed', 18), ('changed back', 18), ('blown away', 16), ('yeah yeah', 15), ('little thing', 15), ('take road', 14), ('road less', 14), ('less traveled', 14), ('every little', 14), ('back yeah', 12), ('little bit', 11), (\"let 'em\", 9), ('afraid take', 9), ('bit stronger', 9), (\"i'm done\", 9), ('never gonna', 8), ('oh oohwhoa', 8), ('something water', 8), ('away blown', 7), ('burning house', 7), (\"like i'm\", 7), ('get little', 7), ('miranda lambert', 7), ('black like', 7), ('lost boy', 6), ('nothing left', 6), (\"i've sleepwalking\", 6), ('yeah guess', 6), ('guess that’s', 6), ('that’s church', 6), ('kiss lots', 6), ('follow arrow', 6), ('arrow wherever', 6), ('wherever points', 6), ('girl country', 6), ('country song', 6), ('must something', 6), ('hope cheats', 6), ('cheats like', 6), ('remember every', 6), ('fly away', 5), ('gonna man', 5), (\"careless man's\", 5), (\"man's careful\", 5), ('careful daughter', 5), ('daughter best', 5), ('best thing', 5), (\"thing that's\", 5), (\"that's ever\", 5)]\n",
      "Top 50 trigrams in your `female_2010s` corpus\n",
      "==================================\n",
      "[('got name changed', 18), ('name changed back', 18), ('take road less', 14), ('road less traveled', 14), ('every little thing', 14), ('changed back yeah', 12), ('back yeah yeah', 12), ('afraid take road', 9), ('little bit stronger', 9), ('blown away blown', 7), ('away blown away', 7), ('yeah guess that’s', 6), ('guess that’s church', 6), ('follow arrow wherever', 6), ('arrow wherever points', 6), ('girl country song', 6), ('must something water', 6), ('hope cheats like', 6), ('remember every little', 6), ('never gonna man', 5), (\"careless man's careful\", 5), (\"man's careful daughter\", 5), ('careful daughter best', 5), ('daughter best thing', 5), (\"best thing that's\", 5), (\"thing that's ever\", 5), (\"that's ever mine\", 5), ('less traveled wear', 5), ('traveled wear boots', 5), ('wear boots kick', 5), ('boots kick gravel', 5), ('kick gravel afraid', 5), ('gravel afraid take', 5), ('yeah yeah got', 5), ('yeah got name', 5), ('changed back got', 5), ('back got name', 5), ('little thing remember', 5), ('thing remember every', 5), ('little thing high', 5), ('thing high hurt', 5), ('high hurt shine', 5), ('hurt shine sting', 5), ('shine sting every', 5), ('sting every little', 5), ('made rebel careless', 4), (\"rebel careless man's\", 4), ('get hallelujah get', 4), ('hallelujah get amen', 4), ('get amen feels', 4)]\n"
     ]
    },
    {
     "name": "stdout",
     "output_type": "stream",
     "text": [
      "Top 50 words in your `male_2010s` corpus\n",
      "==================================\n",
      "[('like', 72), (\"i'm\", 57), ('back', 44), ('baby', 40), ('oooh', 36), ('yeah', 31), ('need', 28), ('rock', 28), ('got', 27), ('right', 27), (\"ain't\", 27), ('little', 26), (\"'em\", 26), ('mama', 26), ('make', 25), ('think', 25), ('know', 24), ('get', 24), ('gonna', 23), ('go', 23), ('wanna', 23), ('see', 21), ('hey', 20), ('dirt', 19), ('one', 19), ('good', 18), ('way', 17), ('whiskey', 17), ('used', 16), ('road', 16), (\"i'ma\", 16), ('tequila', 16), ('around', 15), ('night', 15), ('hell', 15), ('free', 15), ('drink', 14), ('take', 14), (\"'cause\", 14), ('man', 14), ('ya', 14), ('crazy', 14), ('always', 14), ('country', 13), ('never', 13), ('glasses', 13), ('drunk', 13), (\"can't\", 12), ('feel', 12), ('shine', 12)]\n",
      "Top 50 # of songs each type occurs in your `male_2010s` corpus\n",
      "==================================\n",
      "[('like', 12), ('go', 12), ('back', 12), ('know', 11), (\"i'm\", 11), ('yeah', 11), ('get', 11), (\"ain't\", 10), ('got', 9), ('baby', 9), ('right', 8), ('take', 8), ('way', 8), ('feel', 7), ('see', 7), ('need', 7), ('night', 7), ('new', 7), ('make', 6), ('good', 6), (\"can't\", 6), (\"we're\", 6), ('little', 6), ('hell', 6), ('think', 6), ('old', 6), ('oh', 6), ('sun', 6), ('come', 6), ('never', 6), ('drink', 5), ('long', 5), ('home', 5), ('lights', 5), ('time', 5), ('one', 5), ('road', 5), ('around', 5), ('town', 5), ('man', 5), ('getting', 5), ('help', 5), ('really', 4), ('gonna', 4), (\"i'll\", 4), ('watch', 4), ('times', 4), ('funny', 4), ('took', 4), ('high', 4)]\n",
      "Top 50 bigrams in your `male_2010s` corpus\n",
      "==================================\n",
      "[('oooh oooh', 34), ('rock mama', 18), ('whiskey glasses', 13), ('make wanna', 12), ('mama like', 12), ('little dirt', 11), ('dirt boots', 11), (\"god's country\", 11), ('goes like', 11), ('taste tequila', 11), ('always stay', 10), ('stay humble', 10), ('humble kind', 10), ('mama rock', 10), ('broken halos', 10), ('got little', 9), ('roll windows', 9), ('windows cruise', 9), (\"line 'em\", 9), (\"knock 'em\", 9), (\"i'ma need\", 9), ('drunk plane', 9), (\"i'm gonna\", 8), ('might little', 8), ('baby song', 8), ('song make', 8), ('wanna roll', 8), ('back road', 8), ('like back', 8), (\"'em back\", 8), (\"fill 'em\", 8), ('hey mama', 8), ('think think', 7), ('see world', 7), ('world whiskey', 7), (\"i'm getting\", 7), ('getting drunk', 7), ('halos used', 7), ('used shine', 7), ('dirt road', 6), (\"that's right\", 6), ('free free', 6), (\"free we'll\", 6), (\"we'll ever\", 6), ('woahohohoh woahohohoh', 6), ('woahohohoh woahohohohohohoh', 6), ('looks good', 6), ('need whiskey', 6), (\"'em line\", 6), ('back knock', 6)]\n",
      "Top 50 trigrams in your `male_2010s` corpus\n",
      "==================================\n",
      "[('oooh oooh oooh', 32), ('rock mama like', 12), ('little dirt boots', 11), ('always stay humble', 10), ('stay humble kind', 10), ('baby song make', 8), ('song make wanna', 8), ('make wanna roll', 8), ('wanna roll windows', 8), ('roll windows cruise', 8), (\"knock 'em back\", 8), ('hey mama rock', 8), ('see world whiskey', 7), ('world whiskey glasses', 7), (\"i'm getting drunk\", 7), ('getting drunk plane', 7), ('broken halos used', 7), ('halos used shine', 7), ('got little dirt', 6), (\"free free we'll\", 6), (\"free we'll ever\", 6), ('woahohohoh woahohohoh woahohohohohohoh', 6), (\"i'ma need whiskey\", 6), ('need whiskey glasses', 6), (\"line 'em line\", 6), (\"'em line 'em\", 6), (\"'em back knock\", 6), (\"back knock 'em\", 6), (\"fill 'em fill\", 6), (\"'em fill 'em\", 6), ('might little dirt', 5), ('goes like hey', 5), ('die go hell', 5), ('mama rock rock', 5), ('saw light sunrise', 4), (\"light sunrise sittin'\", 4), (\"sunrise sittin' back\", 4), (\"sittin' back 40\", 4), ('back 40 muddy', 4), ('40 muddy riverside', 4), (\"muddy riverside gettin'\", 4), (\"riverside gettin' baptized\", 4), (\"gettin' baptized holy\", 4), ('baptized holy water', 4), (\"holy water 'shine\", 4), (\"water 'shine dogs\", 4), (\"'shine dogs runnin'\", 4), ('saved sound found', 4), ('sound found dixie', 4), ('found dixie whistled', 4)]\n",
      "word       1990s      2010s     \n",
      "==============================\n",
      "beer       5          9         \n",
      "boots      1          17        \n",
      "drink      3          16        \n",
      "drinking   0          0         \n",
      "drinks     0          6         \n",
      "truck      9          5         \n",
      "road       5          34        \n",
      "yeah       56         87        \n",
      "baby       30         52        \n",
      "girl       35         22        \n",
      "love       108        19        \n",
      "little     45         62        \n",
      "drunk      0          14        \n",
      "whiskey    6          20        \n",
      "word       1990s      2010s     \n",
      "==============================\n",
      "heart      30         27        \n",
      "love       108        19        \n",
      "baby       30         52        \n",
      "girl       35         22        \n",
      "yeah       56         87        \n",
      "man        25         21        \n",
      "little     45         62        \n",
      "love 108 6.81\n",
      "heart 30 1.89\n",
      "happy 1 0.06\n",
      "romance 4 0.25\n",
      "lover 1 0.06\n",
      "smile 11 0.69\n",
      "baby 30 1.89\n",
      "love 19 1.36\n",
      "heart 27 1.94\n",
      "happy 3 0.22\n",
      "romance 0 0.0\n",
      "lover 0 0.0\n",
      "smile 11 0.79\n",
      "baby 52 3.73\n",
      "whiskey 20 1.43\n",
      "beer 9 0.65\n",
      "drunk 14 1.0\n",
      "tequila 16 1.15\n",
      "drink 16 1.15\n",
      "whiskey 6 0.38\n",
      "beer 5 0.32\n",
      "drunk 0 0.0\n",
      "tequila 0 0.0\n",
      "drink 3 0.19\n"
     ]
    }
   ],
   "source": [
    "%run '../data_analysis/frequency_ngram_analysis.ipynb'"
   ]
  },
  {
   "cell_type": "code",
   "execution_count": 38,
   "metadata": {},
   "outputs": [
    {
     "name": "stdout",
     "output_type": "stream",
     "text": [
      "39.8196270253745 percent of the tokens in all 2010s songs were verbs\n",
      "16.70742892081932 percent of the tokens in all 2010s songs were adjectives\n",
      "42.479946524064175 percent of the tokens in all 90s songs were verbs\n",
      "17.34625668449198 percent of the tokens in all 90s songs were adjectives\n",
      "43.145624692168774 percent of the tokens in all female songs were verbs\n",
      "17.271384009193895 percent of the tokens in all female songs were adjectives\n",
      "43.145624692168774 percent of the tokens in all male songs were verbs\n",
      "17.271384009193895 percent of the tokens in all male songs were adjectives\n"
     ]
    }
   ],
   "source": [
    "%run '../data_analysis/partofspeech_tagging_analysis.ipynb'"
   ]
  },
  {
   "cell_type": "code",
   "execution_count": 5,
   "metadata": {},
   "outputs": [],
   "source": [
    "char_to_strip = '.,!][?;$\"-()'"
   ]
  },
  {
   "cell_type": "code",
   "execution_count": 6,
   "metadata": {},
   "outputs": [],
   "source": [
    "all_charts = json.load(open('../data/charts/all_charts.json'))"
   ]
  },
  {
   "cell_type": "markdown",
   "metadata": {},
   "source": [
    "## What can we learn about the evolution of country music from analyzing lyrics from the 1990s and 2010s by male and female artists? \n",
    "## Jessica Pasik\n",
    "### COMM 313 - Spring 2021"
   ]
  },
  {
   "cell_type": "markdown",
   "metadata": {},
   "source": [
    "## INTRODUCTION"
   ]
  },
  {
   "cell_type": "markdown",
   "metadata": {},
   "source": [
    "Despite some people's aversion to country music, the genre remains one of the most-listened to and popular musical subcategories of our generation. The country music genre, dating back to the 1920s, has experienced various different musical tunes and styles; country music started with 'hillbilly' tunes, experimented with bluegrass and gospel music, and was followed by outlaw country and more folk and soft rock tunes. The most recent decade saw the injection of pop and rap into country music songs. Taking into account all of these details and stylistic shifts, I thought it best to dig a little deeper and see what insights I might find when analyzing country music lyrics over time.\n",
    "\n",
    "When thinking about this project, I knew I had to narrow down my data set to make my research questions and hypotheses more targeted. As a result, I sought out to perform an exploratory analysis of country music lyrics from the 1990s - a big decade for country music - and the 2010s, to see if there were any interesting or significant patterns that stand out that could inform me how the country genre has evolved over the years. \n",
    "\n",
    "Keeping this in mind, I have shared my research questions and hypotheses that will be tested in my data analysis below:\n",
    "\n",
    "### Research Question\n",
    "\n",
    "How has the country music genre changed over time – from the 1990s to 2010s? Are there any prevalent changes between men and women both within and between these decades? What evidence can I find through lyrical analysis that could tell me more about where the country genre is headed in the future? What can be expected?\n",
    "\n",
    "### Hypothesis \n",
    "\n",
    "I hypothesize that while there may be diversity in topics over the decades, the lyrical analysis will reveal great similarity in lyrics from the 1990s and 2010s; I believe any substantial lyrical differences will be more prominent between male and female artists. "
   ]
  },
  {
   "cell_type": "markdown",
   "metadata": {},
   "source": [
    "## COLLECTING, ORGANIZING, & BUILDING THE CORPORA"
   ]
  },
  {
   "cell_type": "markdown",
   "metadata": {},
   "source": [
    "As I mentioned earlier, in order to narrow my findings, I decided to focus on country songs from the 1990s - a decade full of success and fame for the country genre - and the 2010s. I chose these two time periods with the hopes that I could distinguish lyrical differences between old country styles of the 1990s and more modern country tunes of the 2010s. In addition to the temporal aspect, I also decided to use gender as another unit of analysis so that I could see if there were any differences in the song lyrics written by male and female artists both between and within the decades. \n",
    "\n",
    "Given that I could not find a pre-made data set or chart online that included the exact units of analysis I was looking for, I created an Excel chart of top songs from the 1990s and 2010s by male and female artists. I then transformed this chart into a Pandas data frame, which I then turned into separate dictionaries. After this, I relied on Genius API to scrape the lyrics for every song. Once I compiled all my lyrical data, I further separated and organized my data into various JSON files. The main corpus that will be referenced in all data analysis folders is `all_charts`; `all_charts` pulls lyrics from a combined 80 songs (40 per decade; 20 songs per gender per decade)."
   ]
  },
  {
   "cell_type": "markdown",
   "metadata": {},
   "source": [
    "## FINDINGS"
   ]
  },
  {
   "cell_type": "markdown",
   "metadata": {},
   "source": [
    "Methods of analysis used in the project:\n",
    "\n",
    "- Tokenization\n",
    "- Frequencies\n",
    "- N-gram Lists\n",
    "- Word Comparisons\n",
    "- KWIC Concordance Analysis\n",
    "- Collocation Analysis \n",
    "- Keyness Analysis\n",
    "- Part-of-Speech Tagging \n",
    "\n",
    "Now, to begin the data story!"
   ]
  },
  {
   "cell_type": "markdown",
   "metadata": {},
   "source": [
    "## Frequencies, N-gram lists, and Word Comparisons"
   ]
  },
  {
   "cell_type": "markdown",
   "metadata": {},
   "source": [
    "Using a massive loop that incorporated tokenization, frequencies, and n-gram lists, I was able to run such analyses through the various lyrical dictionaries I saved as JSON files.  \n",
    "\n",
    "For purposes of this data story, I have only included the most relevant dictionaries for analysis in this notebook."
   ]
  },
  {
   "cell_type": "markdown",
   "metadata": {},
   "source": [
    "## All 1990s "
   ]
  },
  {
   "cell_type": "code",
   "execution_count": 13,
   "metadata": {},
   "outputs": [
    {
     "name": "stdout",
     "output_type": "stream",
     "text": [
      "Top 50 words in your `all_90s` corpus\n",
      "==================================\n",
      "[('love', 108), (\"i'm\", 75), ('know', 74), ('oh', 70), ('yeah', 56), ('like', 55), ('got', 50), ('get', 47), ('let', 47), ('little', 45), ('wanna', 44), (\"ain't\", 42), ('one', 38), ('never', 38), ('way', 37), ('tell', 36), ('girl', 35), (\"i've\", 35), ('take', 34), ('ya', 34), ('come', 33), ('say', 33), ('go', 33), ('boy', 32), ('said', 32), ('make', 32), ('baby', 30), ('heart', 30), ('away', 29), ('gonna', 28), ('think', 28), ('well', 27), ('right', 27), ('maria', 27), ('time', 26), ('man', 25), ('ever', 25), ('feel', 25), ('want', 24), ('night', 22), ('would', 22), ('knows', 22), ('world', 21), ('hey', 21), (\"can't\", 21), ('kiss', 21), ('maybe', 19), ('really', 19), ('passionate', 19), ('kisses', 19)]\n",
      "Top 50 # of songs each type occurs in your `all_90s` corpus\n",
      "==================================\n",
      "[('know', 22), (\"i'm\", 21), ('like', 20), ('love', 19), ('oh', 19), ('night', 19), ('got', 18), ('one', 18), ('said', 17), ('never', 17), ('get', 16), (\"ain't\", 15), ('right', 15), (\"i've\", 15), ('man', 14), ('come', 14), ('time', 14), ('let', 14), ('go', 14), ('take', 14), ('way', 13), ('long', 13), ('baby', 13), ('gonna', 12), ('away', 12), ('yeah', 12), ('little', 11), ('say', 11), ('back', 11), ('heart', 11), ('world', 10), ('eyes', 10), ('make', 10), ('girl', 10), ('last', 9), ('boy', 9), ('good', 9), ('every', 9), ('tell', 9), ('day', 9), (\"can't\", 9), ('says', 8), ('life', 8), ('see', 8), ('well', 8), ('took', 8), ('want', 8), (\"there's\", 8), ('ever', 8), ('around', 8)]\n",
      "Top 50 bigrams in your `all_90s` corpus\n",
      "==================================\n",
      "[('passionate kisses', 19), ('little goodbyes', 16), ('ay yeah', 16), (\"i'm hurry\", 14), ('love start', 14), (\"start slippin'\", 14), ('would ya', 14), ('love boy', 13), ('kisses passionate', 13), ('know beautiful', 13), ('way love', 12), (\"i've got\", 12), ('maria oh', 12), ('oh marie', 12), ('marie love', 12), ('love girl', 12), ('walkaway joe', 11), ('yeah yeah', 9), ('kiss kiss', 9), ('got friends', 9), ('friends low', 9), ('low places', 9), ('tim mcgraw', 9), ('yeah ay', 9), ('boy love', 8), (\"here's one\", 8), ('one chance', 8), ('chance fancy', 8), ('fancy let', 8), ('hey hey', 8), ('really gotta', 8), ('tell heart', 8), ('heart achy', 8), ('achy breaky', 8), ('breaky heart', 8), ('like love', 8), ('say wanna', 8), ('wanna get', 8), ('live without', 7), ('want know', 7), ('feel like', 7), ('watermelon crawl', 7), ('try think', 7), ('chasing neon', 7), ('neon rainbow', 7), ('living honkytonk', 7), ('honkytonk dream', 7), ('hurry get', 7), ('get things', 7), ('things done', 7)]\n",
      "Top 50 trigrams in your `all_90s` corpus\n",
      "==================================\n",
      "[(\"love start slippin'\", 14), ('passionate kisses passionate', 13), ('kisses passionate kisses', 13), ('maria oh marie', 12), ('oh marie love', 12), ('marie love girl', 12), ('got friends low', 9), ('friends low places', 9), ('ay yeah ay', 9), ('yeah ay yeah', 9), ('love boy love', 8), ('boy love boy', 8), (\"here's one chance\", 8), ('one chance fancy', 8), ('chance fancy let', 8), ('tell heart achy', 8), ('heart achy breaky', 8), ('achy breaky heart', 8), ('chasing neon rainbow', 7), ('living honkytonk dream', 7), (\"i'm hurry get\", 7), ('hurry get things', 7), ('get things done', 7), (\"rush rush life's\", 7), (\"rush life's fun\", 7), (\"life's fun really\", 7), ('fun really gotta', 7), ('really gotta live', 7), ('gotta live die', 7), (\"live die i'm\", 7), (\"die i'm hurry\", 7), (\"i'm hurry know\", 7), ('let love start', 7), (\"start slippin' love\", 7), (\"slippin' love start\", 7), (\"start slippin' away\", 7), ('could ya would', 7), ('ya would ya', 7), (\"would ya ain't\", 7), (\"ya ain't ya\", 7), (\"ain't ya gonna\", 7), ('ya gonna asked', 7), ('gonna asked would', 7), ('asked would ya', 7), ('would ya wanna', 7), ('ya wanna baby', 7), ('wanna baby tonight', 7), ('tim mcgraw &', 7), ('mcgraw & faith', 7), ('& faith hill', 7)]\n"
     ]
    }
   ],
   "source": [
    "print('Top 50 words in your `all_90s` corpus\\n', '='*34, sep='')\n",
    "print(word_freq_90s.most_common(50))\n",
    "\n",
    "print('Top 50 # of songs each type occurs in your `all_90s` corpus\\n', '='*34, sep='')\n",
    "print(song_freq_90s.most_common(50))\n",
    "\n",
    "print('Top 50 bigrams in your `all_90s` corpus\\n', '='*34, sep='')\n",
    "print(bigrams_90s_dist.most_common(50))\n",
    "\n",
    "print('Top 50 trigrams in your `all_90s` corpus\\n', '='*34, sep='')\n",
    "print(trigrams_90s_dist.most_common(50))"
   ]
  },
  {
   "cell_type": "code",
   "execution_count": 14,
   "metadata": {},
   "outputs": [
    {
     "name": "stdout",
     "output_type": "stream",
     "text": [
      "the average type-token ratio among `all_90s` songs is 40.612394807300554\n"
     ]
    }
   ],
   "source": [
    "## Calculating type-token ratio for 90s\n",
    "# Finding amount of unique words across corpora\n",
    "\n",
    "ttr_90s = []\n",
    "\n",
    "for song in all_charts['all_90s']:\n",
    "    toks_90s = song['tokens']\n",
    "    ttr = len(set(toks_90s)) / len(toks_90s) * 100\n",
    "    ttr_90s.append(ttr)\n",
    "\n",
    "print('the average type-token ratio among `all_90s` songs is {}'.format(sum(ttr_90s) / len(ttr_90s)))\n"
   ]
  },
  {
   "cell_type": "markdown",
   "metadata": {},
   "source": [
    "## All 2010s"
   ]
  },
  {
   "cell_type": "code",
   "execution_count": 15,
   "metadata": {},
   "outputs": [
    {
     "name": "stdout",
     "output_type": "stream",
     "text": [
      "Top 50 words in your `all_2010s` corpus\n",
      "==================================\n",
      "[('like', 108), (\"i'm\", 97), ('yeah', 87), ('back', 80), ('little', 62), ('get', 60), ('got', 58), (\"ain't\", 53), ('baby', 52), ('every', 51), ('know', 46), ('never', 45), ('gonna', 43), ('oh', 42), ('take', 40), (\"'em\", 39), ('make', 38), ('right', 36), ('one', 36), ('oooh', 36), ('see', 35), ('go', 35), ('road', 34), ('good', 33), ('need', 33), ('hope', 33), ('think', 32), ('way', 31), ('rock', 31), ('away', 30), ('ever', 29), ('mama', 29), ('around', 28), ('hey', 28), ('heart', 27), ('name', 27), ('wanna', 27), ('could', 26), ('changed', 25), (\"'cause\", 24), ('night', 24), (\"i'll\", 23), ('thing', 22), ('dirt', 22), ('girl', 22), ('song', 22), ('free', 22), ('man', 21), ('come', 21), (\"can't\", 21)]\n",
      "Top 50 # of songs each type occurs in your `all_2010s` corpus\n",
      "==================================\n",
      "[('like', 23), ('back', 22), ('get', 22), ('yeah', 21), (\"i'm\", 19), ('know', 18), ('go', 18), ('got', 17), (\"ain't\", 17), ('take', 15), ('one', 15), ('good', 14), ('right', 14), ('baby', 14), ('little', 14), ('time', 13), ('see', 13), ('oh', 13), ('way', 13), ('never', 12), ('heart', 12), ('make', 12), ('around', 12), ('every', 11), (\"i'll\", 11), ('look', 11), ('night', 11), ('come', 11), ('gonna', 10), (\"'cause\", 10), ('place', 10), ('put', 10), ('need', 10), (\"can't\", 10), ('think', 10), ('feel', 10), ('ever', 9), ('old', 9), ('turn', 9), ('say', 9), ('love', 9), ('day', 9), ('road', 9), ('well', 9), ('sun', 9), ('man', 8), ('said', 8), ('smile', 8), ('thought', 8), (\"we're\", 8)]\n",
      "Top 50 bigrams in your `all_2010s` corpus\n",
      "==================================\n",
      "[('oooh oooh', 34), ('blown away', 19), ('got name', 19), ('name changed', 18), ('changed back', 18), ('every little', 18), ('rock mama', 18), ('yeah yeah', 15), ('little thing', 15), ('take road', 14), ('road less', 14), ('less traveled', 14), ('whiskey glasses', 13), ('afraid take', 12), ('back yeah', 12), ('little bit', 12), ('make wanna', 12), ('mama like', 12), (\"like i'm\", 11), ('little dirt', 11), ('dirt boots', 11), (\"god's country\", 11), ('goes like', 11), ('taste tequila', 11), ('roll windows', 10), ('got little', 10), ('always stay', 10), ('stay humble', 10), ('humble kind', 10), ('mama rock', 10), ('broken halos', 10), (\"let 'em\", 9), ('back road', 9), ('bit stronger', 9), (\"i'm getting\", 9), (\"i'm done\", 9), ('windows cruise', 9), (\"line 'em\", 9), (\"knock 'em\", 9), (\"i'ma need\", 9), ('drunk plane', 9), ('never gonna', 8), ('oh oohwhoa', 8), ('something water', 8), (\"i'm gonna\", 8), ('might little', 8), ('baby song', 8), ('song make', 8), ('wanna roll', 8), ('like back', 8)]\n",
      "Top 50 trigrams in your `all_2010s` corpus\n",
      "==================================\n",
      "[('oooh oooh oooh', 32), ('got name changed', 18), ('name changed back', 18), ('take road less', 14), ('road less traveled', 14), ('every little thing', 14), ('changed back yeah', 12), ('back yeah yeah', 12), ('rock mama like', 12), ('little dirt boots', 11), ('always stay humble', 10), ('stay humble kind', 10), ('afraid take road', 9), ('little bit stronger', 9), ('baby song make', 8), ('song make wanna', 8), ('make wanna roll', 8), ('wanna roll windows', 8), ('roll windows cruise', 8), (\"knock 'em back\", 8), ('hey mama rock', 8), ('blown away blown', 7), ('away blown away', 7), ('see world whiskey', 7), ('world whiskey glasses', 7), (\"i'm getting drunk\", 7), ('getting drunk plane', 7), ('broken halos used', 7), ('halos used shine', 7), ('yeah guess that’s', 6), ('guess that’s church', 6), ('follow arrow wherever', 6), ('arrow wherever points', 6), ('girl country song', 6), ('must something water', 6), ('hope cheats like', 6), ('remember every little', 6), ('got little dirt', 6), (\"free free we'll\", 6), (\"free we'll ever\", 6), ('woahohohoh woahohohoh woahohohohohohoh', 6), (\"i'ma need whiskey\", 6), ('need whiskey glasses', 6), (\"line 'em line\", 6), (\"'em line 'em\", 6), (\"'em back knock\", 6), (\"back knock 'em\", 6), (\"fill 'em fill\", 6), (\"'em fill 'em\", 6), ('never gonna man', 5)]\n"
     ]
    }
   ],
   "source": [
    "print('Top 50 words in your `all_2010s` corpus\\n', '='*34, sep='')\n",
    "print(word_freq_2010s.most_common(50))\n",
    "\n",
    "print('Top 50 # of songs each type occurs in your `all_2010s` corpus\\n', '='*34, sep='')\n",
    "print(song_freq_2010s.most_common(50))\n",
    "\n",
    "print('Top 50 bigrams in your `all_2010s` corpus\\n', '='*34, sep='')\n",
    "print(bigrams_2010s_dist.most_common(50))\n",
    "\n",
    "print('Top 50 trigrams in your `all_2010s` corpus\\n', '='*34, sep='')\n",
    "print(trigrams_2010s_dist.most_common(50))"
   ]
  },
  {
   "cell_type": "code",
   "execution_count": 16,
   "metadata": {
    "scrolled": true
   },
   "outputs": [
    {
     "name": "stdout",
     "output_type": "stream",
     "text": [
      "the average type-token ratio among 2010s songs is 37.27572078056541\n"
     ]
    }
   ],
   "source": [
    "## Calculating type-token ratio for 2010s\n",
    "# Finding amount of unique words across corpora\n",
    "\n",
    "ttr_2010s = []\n",
    "\n",
    "for song in all_charts['all_2010s']:\n",
    "    toks_2010s = song['tokens']\n",
    "    ttr_10s = len(set(toks_2010s)) / len(toks_2010s) * 100\n",
    "    ttr_2010s.append(ttr_10s)\n",
    "\n",
    "print('the average type-token ratio among 2010s songs is {}'.format(sum(ttr_2010s) / len(ttr_2010s)))\n"
   ]
  },
  {
   "cell_type": "code",
   "execution_count": 17,
   "metadata": {},
   "outputs": [
    {
     "name": "stdout",
     "output_type": "stream",
     "text": [
      "word       1990s      2010s     \n",
      "==============================\n",
      "heart      30         27        \n",
      "love       108        19        \n",
      "baby       30         52        \n",
      "girl       35         22        \n",
      "yeah       56         87        \n",
      "man        25         21        \n",
      "little     45         62        \n"
     ]
    }
   ],
   "source": [
    "## Comparing some key words present in BOTH the 90s and 2010s lyrics\n",
    "## Key words chosen from printed results earlier in this notebook \n",
    "\n",
    "words_to_compare = ['heart','love','baby','girl','yeah','man','little']\n",
    "print(\"{:<10} {:<10} {:<10}\".format(\"word\", \"1990s\", \"2010s\"))\n",
    "print(\"=\"*30)\n",
    "\n",
    "for word in words_to_compare:\n",
    "    print(\"{:<10} {:<10} {:<10}\".format(word,\n",
    "                                   word_freq_90s.get(word,0),\n",
    "                                   word_freq_2010s.get(word,0)))"
   ]
  },
  {
   "cell_type": "markdown",
   "metadata": {},
   "source": [
    "### Observations - 1990s vs 2010s\n",
    "\n",
    "When looking at the frequencies and n-grams from the 1990s, there are frequent references to filler words such as \"oh\", \"yeah\", and \"really\", and \"hey\". However, there are also significant outliers that will be analyzed further throughout this notebook such as \"love\", \"heart\", \"baby\", and \"kisses\". Additionally, the average type-token ratio - or the amount of unique words across the `all_90s` data is 40.612394807300554, showing there was not significant variety in words used. \n",
    "\n",
    "Compared to the data from the 1990s, the frequencies and n-grams from the `all_2010s` data displayed a lot more lyrical variety, with words such as \"dirt\", \"road\", \"mama\" and \"hope\". There were also some distinct word pairs such as \"whiskey glasses\", \"taste tequila\", and \"drunk plane\" that seem to detail a storyline not present in the 1990s chart. Also, the average type-token ratio among 2010s songs is 37.27572078056541, only slightly lower than that of the 1990s.\n",
    "\n",
    "Above, I included a chart of words that appeared in the top 50 of both the 1990s and 2010s chart. Words such as \"love\" and \"heart\" appeared in both and insinuate storylines about falling in and out of love. I will analyze this further later in this notebook. This finding shows that there may be more similarity in lyrics between the decades than I thought; while the tunes of the songs may have evolved, maybe the lyrical uniqueness has not changed as much."
   ]
  },
  {
   "cell_type": "markdown",
   "metadata": {},
   "source": [
    "## All Female"
   ]
  },
  {
   "cell_type": "code",
   "execution_count": 20,
   "metadata": {},
   "outputs": [
    {
     "name": "stdout",
     "output_type": "stream",
     "text": [
      "Top 50 words in your `all_female` corpus\n",
      "==================================\n",
      "[('yeah', 83), ('like', 65), ('little', 64), ('oh', 61), (\"i'm\", 58), ('get', 52), ('got', 51), ('know', 50), ('love', 49), ('back', 49), ('every', 46), ('never', 44), ('let', 43), (\"ain't\", 40), ('way', 40), ('one', 39), ('away', 38), ('gonna', 38), ('ever', 37), ('take', 37), ('go', 35), ('hope', 35), ('boy', 34), ('said', 34), ('baby', 31), ('well', 27), ('kiss', 27), ('right', 26), ('make', 26), ('time', 25), ('thing', 25), ('feel', 25), ('could', 25), ('changed', 25), ('good', 24), ('prechorus', 24), ('heart', 24), ('say', 23), ('hey', 23), ('come', 22), ('name', 22), ('day', 22), ('put', 22), ('maybe', 22), ('knows', 22), (\"i've\", 22), ('think', 22), ('road', 21), ('man', 21), ('left', 21)]\n"
     ]
    }
   ],
   "source": [
    "print('Top 50 words in your `all_female` corpus\\n', '='*34, sep='')\n",
    "print(f_word_freq.most_common(50))"
   ]
  },
  {
   "cell_type": "markdown",
   "metadata": {},
   "source": [
    "## All Male"
   ]
  },
  {
   "cell_type": "code",
   "execution_count": 19,
   "metadata": {
    "scrolled": true
   },
   "outputs": [
    {
     "name": "stdout",
     "output_type": "stream",
     "text": [
      "Top 50 words in your `all_male` corpus\n",
      "==================================\n",
      "[(\"i'm\", 114), ('like', 98), ('love', 78), ('know', 70), ('yeah', 60), ('got', 57), ('wanna', 57), ('get', 55), (\"ain't\", 55), ('oh', 51), ('baby', 51), ('ya', 48), ('back', 46), ('make', 44), ('little', 43), ('girl', 40), ('never', 39), ('think', 38), ('take', 37), ('right', 37), ('oooh', 36), ('one', 35), ('see', 34), ('heart', 33), ('go', 33), ('gonna', 33), ('come', 32), ('tell', 31), ('rock', 30), ('night', 29), (\"can't\", 29), (\"i've\", 28), ('way', 28), ('mama', 28), (\"'em\", 28), ('need', 28), ('maria', 27), ('hey', 26), ('say', 25), ('man', 25), ('around', 25), (\"i'll\", 24), ('whiskey', 23), ('world', 23), ('beautiful', 23), ('let', 22), ('away', 21), ('time', 21), ('good', 21), ('would', 20)]\n"
     ]
    }
   ],
   "source": [
    "print('Top 50 words in your `all_male` corpus\\n', '='*34, sep='')\n",
    "print(m_word_freq.most_common(50))"
   ]
  },
  {
   "cell_type": "markdown",
   "metadata": {},
   "source": [
    "### Observations - Female vs Male \n",
    "\n",
    "When looking at the `all_female` chart, it is clear that the words \"little\", \"love\", \"heart\", and \"kiss\" stand out. Looking at these words without contextualization, there seems to be a common theme of 'love' and love-related topics in country songs written by female artists from both the 1990s and 2010s. Compared to the female chart, the `all_male` chart used the world \"love\" significantly more; however, it also had much more lyrical variety with references to \"whiskey\", \"world\", and \"mama\". In other words, it is harder to pick up a common theme for songs written by male artists from both decades. Looking at these frequencies, one can see that male and female artists *do* in fact differ (not always in a big way) in the topics and subjects they decide to sing about, thus supporting my hypothesis that there would be some lyrical distinction across genders. "
   ]
  },
  {
   "cell_type": "markdown",
   "metadata": {},
   "source": [
    "## KWIC Concordance Analysis & Collocation Analysis"
   ]
  },
  {
   "cell_type": "markdown",
   "metadata": {},
   "source": [
    "Given the repeated use of the word \"love\" across the chart, I've decided to print my KWIC and collocation analyses of this term below."
   ]
  },
  {
   "cell_type": "markdown",
   "metadata": {},
   "source": [
    "## All 1990s"
   ]
  },
  {
   "cell_type": "code",
   "execution_count": 22,
   "metadata": {},
   "outputs": [
    {
     "name": "stdout",
     "output_type": "stream",
     "text": [
      "\"love\" occurs 108 times in your lyrics\n",
      "                                          love  is unconditional we knew\n",
      "                     you'll never find a  love  as true as mine\n",
      "                     you'll never find a  love  as true as mine\n",
      "                     you'll never find a  love  as true as mine\n",
      "                          true as mine a  love  as true as mine\n",
      "                         and then it's a  love  without end amen it's\n",
      "                         end amen it's a  love  without end amen when\n",
      "                      and a little about  love  a lot about livin'\n",
      "                     worn out line about  love  at first sight well\n",
      "                      and a little about  love  aw haw well we\n",
      "                      and a little about  love  well way down yonder\n",
      "                      and a little about  love  yeaheee that's right \n",
      "                      she can't help but  love  him for the way\n",
      "                         and how you can  love  like this 'cause i'm\n",
      "                        you in a country  love  song summer night beauty\n",
      "                     snow white how does  love  get so off course\n",
      "                   of pretending i don't  love  you anymore let me\n",
      "                 keep pretending i don't  love  you anymore i've got\n",
      "                   of pretending i don't  love  you anymore anymore anymore\n",
      "                 secret about a father's  love  a secret that my\n",
      "                restless summer we found  love  growing wild on the\n",
      "                             i like it i  love  it i want some\n",
      "                             i like it i  love  it i want some\n",
      "                             i like it i  love  it i want some\n",
      "                             i like it i  love  it i want some\n",
      "                             i like it i  love  it i want some\n",
      "                             i like it i  love  it i want some\n",
      "                        maria oh marie i  love  you girl oh my\n",
      "                        maria oh marie i  love  you girl maria i\n",
      "                        you girl maria i  love  you my maria there\n",
      "                        maria oh marie i  love  you girl oh my\n",
      "                        maria oh marie i  love  you girl maria i\n",
      "                        you girl maria i  love  you my maria oh\n",
      "                        maria oh marie i  love  you girl oh my\n",
      "                        maria oh marie i  love  you girl maria i\n",
      "                        you girl maria i  love  you my maria oh\n",
      "                        maria oh marie i  love  you girl oh my\n",
      "                        maria oh marie i  love  you girl maria i\n",
      "                        you girl maria i  love  you my maria oh\n",
      "                        maria oh marie i  love  you girl oh my\n",
      "                        maria oh marie i  love  you girl maria i\n",
      "                        you girl maria i  love  you my maria oh\n",
      "                        maria oh marie i  love  you girl oh my\n",
      "                        maria oh marie i  love  you girl maria i\n",
      "                        you girl maria i  love  you   \n",
      "                     looks like she's in  love  and i'm out of\n",
      "                     looks like she's in  love  and i'm out of\n",
      "                      like we're even in  love  it matters to me\n",
      "                      like we're even in  love  it matters to me\n",
      "                 tommy anywhere she's in  love  with the boy she's\n",
      "                        the boy she's in  love  with the boy she's\n",
      "                        the boy she's in  love  with the boy and\n",
      "                 tommy anywhere she's in  love  with the boy she's\n",
      "                        the boy she's in  love  with the boy she's\n",
      "                        the boy she's in  love  with the boy and\n",
      "                         at you she's in  love  with the boy she's\n",
      "                        the boy she's in  love  with the boy she's\n",
      "                        the boy she's in  love  with the boy what's\n",
      "                          a way she's in  love  with the boy she's\n",
      "                        the boy she's in  love  with the boy she's\n",
      "                        the boy she's in  love  with the boy what's\n",
      "                    boy someday she's in  love  with the boy \n",
      "                 said daddies don't just  love  their children every now\n",
      "                       the promise of my  love  to keep you warm\n",
      "                       there would be no  love  in my life there'd\n",
      "                       my first taste of  love  oh bittersweet the green\n",
      "                       my first taste of  love  oh bittersweet the green\n",
      "                       my first taste of  love  oh bittersweet the green\n",
      "                         got the kind of  love  people dream about don't\n",
      "                     for sleepin' if our  love  is wearin' thin cause\n",
      "                        in don't let our  love  start slippin' love start\n",
      "                  everyday don't let our  love  start slippin' love start\n",
      "                     about don't let our  love  start slippin' love start\n",
      "                  everyday don't let our  love  start slippin' love start\n",
      "                        on don't let our  love  start slippin' love start\n",
      "                  everyday don't let our  love  start slippin' love start\n",
      "                      away don't let our  love  start slippin' love start\n",
      "                 our love start slippin'  love  start slippin' away cause\n",
      "                 our love start slippin'  love  start slippin' away a\n",
      "                 our love start slippin'  love  start slippin' away cause\n",
      "                 our love start slippin'  love  start slippin' away it's\n",
      "                 our love start slippin'  love  start slippin' away cause\n",
      "                 our love start slippin'  love  start slippin' away don't\n",
      "                 our love start slippin'  love  start slippin' away \n",
      "                   she once thought that  love  wasn't just a game\n",
      "                       and share all the  love  and laughter that a\n",
      "                    star she only wanted  love  never bargained for this\n",
      "                         she the one who  love  drama keep it heated\n",
      "                 slippin' away a wounded  love  walks a real thin\n",
      "                        it's the way you  love  me it's a feeling\n",
      "                        it's the way you  love  me it's a feeling\n",
      "                        it's the way you  love  me the way it's\n",
      "                        it's the way you  love  me baby the way\n",
      "                        baby the way you  love  me baby it's the\n",
      "                        it's the way you  love  me darling yeah it's\n",
      "                        it's the way you  love  me the way it's\n",
      "                        it's the way you  love  me baby the way\n",
      "                        baby the way you  love  me baby it's the\n",
      "                        it's the way you  love  me darling yeah it's\n",
      "                        it's the way you  love  me it's a feeling\n",
      "                     your love it's your  love     \n",
      "                     i'm under it's your  love  better than i was\n",
      "                         me go it's your  love  it just does something\n",
      "                    sweet name it's your  love  it just does somethin'\n",
      "                         me go it's your  love  it just does something'\n",
      "                     i'm under it's your  love  it's your love it's\n",
      "                     your love it's your  love  it's your love \n",
      "                     i'm under it's your  love  oh baby oh it's\n"
     ]
    }
   ],
   "source": [
    "#create list of KWIC concordance lines of \"love\" from 'all_90s'\n",
    "kwic_love_90s = []\n",
    "for song in all_charts['all_90s']:\n",
    "    if song.get('tokens'):\n",
    "        kwic_rel_love90s = make_kwic('love', song['tokens'])\n",
    "        kwic_love_90s.extend(kwic_rel_love90s)\n",
    "        \n",
    "print(f'\"love\" occurs {len(kwic_love_90s)} times in your lyrics')\n",
    "\n",
    "#sort and view them\n",
    "love_sorted_90s = sort_kwic(kwic_love_90s, ['L1','R1'])\n",
    "print_kwic(love_sorted_90s)"
   ]
  },
  {
   "cell_type": "code",
   "execution_count": 23,
   "metadata": {},
   "outputs": [],
   "source": [
    "##love collocation 90s\n",
    "love_90s_colls = Counter()\n",
    "for song in range(len(all_charts['all_90s'])):\n",
    "    love_90s_colls.update(collocates(tokenize(all_charts['all_90s'][song]['lyrics']),'love', [3,3]))"
   ]
  },
  {
   "cell_type": "code",
   "execution_count": 24,
   "metadata": {},
   "outputs": [
    {
     "data": {
      "text/plain": [
       "[('I', 33),\n",
       " ('you', 28),\n",
       " ('the', 26),\n",
       " ('boy', 21),\n",
       " ('in', 19),\n",
       " ('(Oh,', 18),\n",
       " ('girl)', 18),\n",
       " (\"It's\", 15),\n",
       " (\"She's\", 13),\n",
       " ('with', 13),\n",
       " ('a', 13),\n",
       " ('Marie,', 12),\n",
       " ('(Maria)', 12),\n",
       " ('it,', 12),\n",
       " ('way', 11),\n",
       " ('like', 9),\n",
       " ('as', 9),\n",
       " ('your', 9),\n",
       " ('our', 8),\n",
       " ('about', 7),\n",
       " ('A', 7),\n",
       " (\"Don't\", 7),\n",
       " ('let', 7),\n",
       " ('start', 7),\n",
       " (\"slippin'\", 7)]"
      ]
     },
     "execution_count": 24,
     "metadata": {},
     "output_type": "execute_result"
    }
   ],
   "source": [
    "love_90s_colls.most_common(25)"
   ]
  },
  {
   "cell_type": "markdown",
   "metadata": {},
   "source": [
    "## All 2010s"
   ]
  },
  {
   "cell_type": "code",
   "execution_count": 25,
   "metadata": {},
   "outputs": [
    {
     "name": "stdout",
     "output_type": "stream",
     "text": [
      "\"love\" occurs 19 times in your lyrics\n",
      "                   well sunsets fade and  love  does too yeah we\n",
      "                    you sunsets fade and  love  does too we had\n",
      "                    you sunsets fade and  love  does too though we\n",
      "                      and rescue me felt  love  pouring down from above\n",
      "                  you thought you'd find  love  isn't all that it\n",
      "                      someone you love i  love  you ain't no pickup\n",
      "                      we were fallin' in  love  in the sweet heart\n",
      "                          time i fell in  love  with a careless man's\n",
      "                          all we need is  love  just as free free\n",
      "                       love who you love  love  who you love 'cause\n",
      "                        went up in smoke  love  isn't all that it\n",
      "                    take for granted the  love  this life gives you\n",
      "                      say what you think  love  who you love love\n",
      "                      why we bother with  love  if it never lasts\n",
      "                       love love who you  love  'cause you just get\n",
      "               sleepin' with someone you  love  i love you ain't\n",
      "                      think love who you  love  love who you love\n",
      "                         how i need your  love  how i need your\n",
      "                         how i need your  love  yeah it sinks in\n"
     ]
    }
   ],
   "source": [
    "#create list of KWIC concordance lines of \"love\" from 'all_2010s'\n",
    "kwic_love_2010s = []\n",
    "for song in all_charts['all_2010s']:\n",
    "    if song.get('tokens'):\n",
    "        kwic_rel_love2010s = make_kwic('love', song['tokens'])\n",
    "        kwic_love_2010s.extend(kwic_rel_love2010s)\n",
    "        \n",
    "print(f'\"love\" occurs {len(kwic_love_2010s)} times in your lyrics')\n",
    "\n",
    "#sort and view them\n",
    "love_sorted_2010s = sort_kwic(kwic_love_2010s, ['L1','R1'])\n",
    "print_kwic(love_sorted_2010s)"
   ]
  },
  {
   "cell_type": "code",
   "execution_count": 26,
   "metadata": {},
   "outputs": [],
   "source": [
    "##love collocation 2010s\n",
    "love_2010s_colls = Counter()\n",
    "for song in range(len(all_charts['all_2010s'])):\n",
    "    love_2010s_colls.update(collocates(tokenize(all_charts['all_2010s'][song]['lyrics']),'love', [3,3]))"
   ]
  },
  {
   "cell_type": "code",
   "execution_count": 27,
   "metadata": {},
   "outputs": [
    {
     "data": {
      "text/plain": [
       "[('you', 4),\n",
       " ('in', 3),\n",
       " ('fade,', 3),\n",
       " ('and', 3),\n",
       " ('does,', 3),\n",
       " ('too', 3),\n",
       " ('with', 2),\n",
       " ('who', 2),\n",
       " ('Sunsets', 2),\n",
       " ('the', 2),\n",
       " ('\"I', 2),\n",
       " ('love', 2),\n",
       " ('you\"', 2),\n",
       " ('I', 1),\n",
       " ('fell', 1),\n",
       " ('a', 1),\n",
       " ('careless', 1),\n",
       " ('Love', 1),\n",
       " ('(Love', 1),\n",
       " ('rescue', 1),\n",
       " ('me.\"', 1),\n",
       " ('Felt', 1),\n",
       " ('pouring', 1),\n",
       " ('down', 1),\n",
       " ('from', 1)]"
      ]
     },
     "execution_count": 27,
     "metadata": {},
     "output_type": "execute_result"
    }
   ],
   "source": [
    "love_2010s_colls.most_common(25)"
   ]
  },
  {
   "cell_type": "markdown",
   "metadata": {},
   "source": [
    "### Observations - 1990s vs 2010s \n",
    "\n",
    "Above, I ran KWIC and collocation analyses for `all_90s` and `all_2010s` to see if the word \"love\" is used differently in either chart. Scanning over the printed results from the KWIC analysis, due to the repetition of specific lines, it seems that \"love\" may be appearing in several of the choruses of '90s songs. \"Love\" is either used in the lyrics as a profession of love with the pretexts of \"I\" (as in \"I love you\") or the term is used more generally, when the artists are speaking about a love story. Keeping this in mind, I predict that both the direct and indirect uses of \"love\" will yield similar results in the other corpora. \n",
    "\n",
    "Also, given that the word \"love\" appeared significantly less in the `all_2010s` data (19 times compared to 108 in `all_90s`), I figured the context would be different as well. With the 1990s data, \"love\" seemed to have primarily positive connotations; howeber, in the 2010s data, \"love\" seemed to occur in lines with more negative sentiments. The `all_2010s` data places \"love\" around words and phrases that reference love fading and love not being all it is expected to be. Even if you pay close attention to the collocations of the 2010s, \"love\" is surrounded by words such as \"fade\", \"rescue\", and \"careless\". \n",
    "\n",
    "All of this taken into account, there are some differences in the way the term \"love\" is used across decades. "
   ]
  },
  {
   "cell_type": "markdown",
   "metadata": {},
   "source": [
    "## All Female"
   ]
  },
  {
   "cell_type": "code",
   "execution_count": 28,
   "metadata": {},
   "outputs": [
    {
     "name": "stdout",
     "output_type": "stream",
     "text": [
      "\"love\" occurs 49 times in your lyrics\n",
      "                   well sunsets fade and  love  does too yeah we\n",
      "                    you sunsets fade and  love  does too we had\n",
      "                    you sunsets fade and  love  does too though we\n",
      "                      she can't help but  love  him for the way\n",
      "                         and how you can  love  like this 'cause i'm\n",
      "                        you in a country  love  song summer night beauty\n",
      "                     snow white how does  love  get so off course\n",
      "                      and rescue me felt  love  pouring down from above\n",
      "                  you thought you'd find  love  isn't all that it\n",
      "                restless summer we found  love  growing wild on the\n",
      "                      like we're even in  love  it matters to me\n",
      "                      like we're even in  love  it matters to me\n",
      "                 tommy anywhere she's in  love  with the boy she's\n",
      "                        the boy she's in  love  with the boy she's\n",
      "                        the boy she's in  love  with the boy and\n",
      "                 tommy anywhere she's in  love  with the boy she's\n",
      "                        the boy she's in  love  with the boy she's\n",
      "                        the boy she's in  love  with the boy and\n",
      "                         at you she's in  love  with the boy she's\n",
      "                        the boy she's in  love  with the boy she's\n",
      "                        the boy she's in  love  with the boy what's\n",
      "                          a way she's in  love  with the boy she's\n",
      "                        the boy she's in  love  with the boy she's\n",
      "                        the boy she's in  love  with the boy what's\n",
      "                    boy someday she's in  love  with the boy \n",
      "                          time i fell in  love  with a careless man's\n",
      "                       love who you love  love  who you love 'cause\n",
      "                       there would be no  love  in my life there'd\n",
      "                       my first taste of  love  oh bittersweet the green\n",
      "                       my first taste of  love  oh bittersweet the green\n",
      "                       my first taste of  love  oh bittersweet the green\n",
      "                        went up in smoke  love  isn't all that it\n",
      "                   she once thought that  love  wasn't just a game\n",
      "                      say what you think  love  who you love love\n",
      "                    star she only wanted  love  never bargained for this\n",
      "                      why we bother with  love  if it never lasts\n",
      "                       love love who you  love  'cause you just get\n",
      "                      think love who you  love  love who you love\n",
      "                        it's the way you  love  me it's a feeling\n",
      "                        it's the way you  love  me it's a feeling\n",
      "                        it's the way you  love  me the way it's\n",
      "                        it's the way you  love  me baby the way\n",
      "                        baby the way you  love  me baby it's the\n",
      "                        it's the way you  love  me darling yeah it's\n",
      "                        it's the way you  love  me the way it's\n",
      "                        it's the way you  love  me baby the way\n",
      "                        baby the way you  love  me baby it's the\n",
      "                        it's the way you  love  me darling yeah it's\n",
      "                        it's the way you  love  me it's a feeling\n"
     ]
    }
   ],
   "source": [
    "#create list of KWIC concordance lines of \"love\" from 'all_female'\n",
    "kwic_love_f = []\n",
    "for song in all_charts['all_female']:\n",
    "    if song.get('tokens'):\n",
    "        kwic_rel_love_f = make_kwic('love', song['tokens'])\n",
    "        kwic_love_f.extend(kwic_rel_love_f)\n",
    "        \n",
    "print(f'\"love\" occurs {len(kwic_love_f)} times in your lyrics')\n",
    "\n",
    "#sort and view them\n",
    "love_sorted_f = sort_kwic(kwic_love_f, ['L1','R1'])\n",
    "print_kwic(love_sorted_f)"
   ]
  },
  {
   "cell_type": "code",
   "execution_count": 29,
   "metadata": {},
   "outputs": [],
   "source": [
    "##love collocation all female\n",
    "love_f_colls = Counter()\n",
    "for song in range(len(all_charts['all_female'])):\n",
    "    love_f_colls.update(collocates(tokenize(all_charts['all_female'][song]['lyrics']),'love', [3,3]))"
   ]
  },
  {
   "cell_type": "code",
   "execution_count": 30,
   "metadata": {},
   "outputs": [
    {
     "data": {
      "text/plain": [
       "[('the', 23),\n",
       " ('boy', 21),\n",
       " ('in', 18),\n",
       " ('with', 14),\n",
       " ('you', 14),\n",
       " (\"She's\", 13),\n",
       " ('way', 11),\n",
       " ('a', 6),\n",
       " ('me', 6),\n",
       " ('(The', 6),\n",
       " (\"It's\", 5),\n",
       " ('me,', 5),\n",
       " ('[Chorus]', 4),\n",
       " ('fade,', 3),\n",
       " ('and', 3),\n",
       " ('does,', 3),\n",
       " ('too', 3),\n",
       " (\"we're\", 2),\n",
       " ('even', 2),\n",
       " ('It', 2),\n",
       " ('matters', 2),\n",
       " ('to', 2),\n",
       " ('way)', 2),\n",
       " ('baby', 2),\n",
       " ('baby)', 2)]"
      ]
     },
     "execution_count": 30,
     "metadata": {},
     "output_type": "execute_result"
    }
   ],
   "source": [
    "love_f_colls.most_common(25)"
   ]
  },
  {
   "cell_type": "markdown",
   "metadata": {},
   "source": [
    "## All Male"
   ]
  },
  {
   "cell_type": "code",
   "execution_count": 31,
   "metadata": {},
   "outputs": [
    {
     "name": "stdout",
     "output_type": "stream",
     "text": [
      "\"love\" occurs 78 times in your lyrics\n",
      "                                          love  is unconditional we knew\n",
      "                     you'll never find a  love  as true as mine\n",
      "                     you'll never find a  love  as true as mine\n",
      "                     you'll never find a  love  as true as mine\n",
      "                          true as mine a  love  as true as mine\n",
      "                         and then it's a  love  without end amen it's\n",
      "                         end amen it's a  love  without end amen when\n",
      "                      and a little about  love  a lot about livin'\n",
      "                     worn out line about  love  at first sight well\n",
      "                      and a little about  love  aw haw well we\n",
      "                      and a little about  love  well way down yonder\n",
      "                      and a little about  love  yeaheee that's right \n",
      "                   of pretending i don't  love  you anymore let me\n",
      "                 keep pretending i don't  love  you anymore i've got\n",
      "                   of pretending i don't  love  you anymore anymore anymore\n",
      "                 secret about a father's  love  a secret that my\n",
      "                             i like it i  love  it i want some\n",
      "                             i like it i  love  it i want some\n",
      "                             i like it i  love  it i want some\n",
      "                             i like it i  love  it i want some\n",
      "                             i like it i  love  it i want some\n",
      "                             i like it i  love  it i want some\n",
      "                        maria oh marie i  love  you girl oh my\n",
      "                        maria oh marie i  love  you girl maria i\n",
      "                        you girl maria i  love  you my maria there\n",
      "                        maria oh marie i  love  you girl oh my\n",
      "                        maria oh marie i  love  you girl maria i\n",
      "                        you girl maria i  love  you my maria oh\n",
      "                        maria oh marie i  love  you girl oh my\n",
      "                        maria oh marie i  love  you girl maria i\n",
      "                        you girl maria i  love  you my maria oh\n",
      "                        maria oh marie i  love  you girl oh my\n",
      "                        maria oh marie i  love  you girl maria i\n",
      "                        you girl maria i  love  you my maria oh\n",
      "                        maria oh marie i  love  you girl oh my\n",
      "                        maria oh marie i  love  you girl maria i\n",
      "                        you girl maria i  love  you my maria oh\n",
      "                        maria oh marie i  love  you girl oh my\n",
      "                        maria oh marie i  love  you girl maria i\n",
      "                        you girl maria i  love  you   \n",
      "                      someone you love i  love  you ain't no pickup\n",
      "                     looks like she's in  love  and i'm out of\n",
      "                     looks like she's in  love  and i'm out of\n",
      "                      we were fallin' in  love  in the sweet heart\n",
      "                          all we need is  love  just as free free\n",
      "                 said daddies don't just  love  their children every now\n",
      "                       the promise of my  love  to keep you warm\n",
      "                         got the kind of  love  people dream about don't\n",
      "                     for sleepin' if our  love  is wearin' thin cause\n",
      "                        in don't let our  love  start slippin' love start\n",
      "                  everyday don't let our  love  start slippin' love start\n",
      "                     about don't let our  love  start slippin' love start\n",
      "                  everyday don't let our  love  start slippin' love start\n",
      "                        on don't let our  love  start slippin' love start\n",
      "                  everyday don't let our  love  start slippin' love start\n",
      "                      away don't let our  love  start slippin' love start\n",
      "                 our love start slippin'  love  start slippin' away cause\n",
      "                 our love start slippin'  love  start slippin' away a\n",
      "                 our love start slippin'  love  start slippin' away cause\n",
      "                 our love start slippin'  love  start slippin' away it's\n",
      "                 our love start slippin'  love  start slippin' away cause\n",
      "                 our love start slippin'  love  start slippin' away don't\n",
      "                 our love start slippin'  love  start slippin' away \n",
      "                       and share all the  love  and laughter that a\n",
      "                    take for granted the  love  this life gives you\n",
      "                         she the one who  love  drama keep it heated\n",
      "                 slippin' away a wounded  love  walks a real thin\n",
      "               sleepin' with someone you  love  i love you ain't\n",
      "                     your love it's your  love     \n",
      "                     i'm under it's your  love  better than i was\n",
      "                         how i need your  love  how i need your\n",
      "                         me go it's your  love  it just does something\n",
      "                    sweet name it's your  love  it just does somethin'\n",
      "                         me go it's your  love  it just does something'\n",
      "                     i'm under it's your  love  it's your love it's\n",
      "                     your love it's your  love  it's your love \n",
      "                     i'm under it's your  love  oh baby oh it's\n",
      "                         how i need your  love  yeah it sinks in\n"
     ]
    }
   ],
   "source": [
    "#create list of KWIC concordance lines of \"love\" from 'all_male'\n",
    "kwic_love_m = []\n",
    "for song in all_charts['all_male']:\n",
    "    if song.get('tokens'):\n",
    "        kwic_rel_love_m = make_kwic('love', song['tokens'])\n",
    "        kwic_love_m.extend(kwic_rel_love_m)\n",
    "        \n",
    "print(f'\"love\" occurs {len(kwic_love_m)} times in your lyrics')\n",
    "\n",
    "#sort and view them\n",
    "love_sorted_m = sort_kwic(kwic_love_m, ['L1','R1'])\n",
    "print_kwic(love_sorted_m)"
   ]
  },
  {
   "cell_type": "code",
   "execution_count": 32,
   "metadata": {},
   "outputs": [],
   "source": [
    "##love collocation all male\n",
    "love_m_colls = Counter()\n",
    "for song in range(len(all_charts['all_male'])):\n",
    "    love_m_colls.update(collocates(tokenize(all_charts['all_male'][song]['lyrics']),'love', [3,3]))"
   ]
  },
  {
   "cell_type": "code",
   "execution_count": 33,
   "metadata": {},
   "outputs": [
    {
     "data": {
      "text/plain": [
       "[('I', 33),\n",
       " ('(Oh,', 18),\n",
       " ('you', 18),\n",
       " ('girl)', 18),\n",
       " ('Marie,', 12),\n",
       " ('(Maria)', 12),\n",
       " ('it,', 12),\n",
       " (\"It's\", 10),\n",
       " ('as', 10),\n",
       " ('your', 9),\n",
       " ('a', 8),\n",
       " ('our', 8),\n",
       " ('like', 8),\n",
       " ('about', 7),\n",
       " ('A', 7),\n",
       " (\"Don't\", 7),\n",
       " ('let', 7),\n",
       " ('start', 7),\n",
       " (\"slippin'\", 7),\n",
       " ('Love', 7),\n",
       " ('you,', 6),\n",
       " ('[Verse', 6),\n",
       " ('want', 6),\n",
       " ('the', 5),\n",
       " ('My', 4)]"
      ]
     },
     "execution_count": 33,
     "metadata": {},
     "output_type": "execute_result"
    }
   ],
   "source": [
    "love_m_colls.most_common(25)"
   ]
  },
  {
   "cell_type": "markdown",
   "metadata": {},
   "source": [
    "### Observations - Female vs Male \n",
    "\n",
    "Analyzing the female versus male charts, three words from the `all_female` collocation analysis stood out to me: \"in\", \"with\", and \"you\". I want to highlight these contextual words because they  can be linked to a general message of 'being in love' or 'falling in love'. When looking at the `all_male` data, there are some differences, one main difference being that \"I\" prefaces \"love\" significantly more in songs written by male artists. Again, you can see from the concordance lines that there is a lot of repetition that stems from the word \"love\" appearing in core parts of the songs such as the choruses.\n",
    "\n",
    "Thinking about these sample KWIC concordance and keyness analyses, one can determine that \"love\" is a unique lyrical similarity between the decades that can be used in different contexts by artists of different genders!"
   ]
  },
  {
   "cell_type": "markdown",
   "metadata": {},
   "source": [
    "## Keyness Analysis"
   ]
  },
  {
   "cell_type": "markdown",
   "metadata": {},
   "source": [
    "For closer analysis, I decided to run keyness analyses of the various charts to determine the most key terms in each data set. "
   ]
  },
  {
   "cell_type": "markdown",
   "metadata": {},
   "source": [
    "## 1990s vs 2010s"
   ]
  },
  {
   "cell_type": "code",
   "execution_count": 34,
   "metadata": {},
   "outputs": [
    {
     "name": "stdout",
     "output_type": "stream",
     "text": [
      "WORD                     Corpus A Freq.Corpus B Freq.Keyness\n",
      "============================================================\n",
      "love                     108       19        77.052\n",
      "boy                      32        8         17.639\n",
      "let                      47        18        16.121\n",
      "tell                     36        14        12.080\n",
      "want                     24        7         11.434\n",
      "i've                     35        15        10.111\n",
      "really                   19        5         10.003\n",
      "oh                       70        42        9.794\n",
      "know                     74        46        9.329\n",
      "say                      33        15        8.618\n",
      "maybe                    19        6         8.312\n",
      "said                     32        16        6.959\n",
      "would                    22        9         6.844\n"
     ]
    }
   ],
   "source": [
    "## keyness analysis: key words in the 90s subset vs those in 2010s\n",
    "calculate_keyness(word_freq_90s, word_freq_2010s, top = 50)"
   ]
  },
  {
   "cell_type": "markdown",
   "metadata": {},
   "source": [
    "## 2010s vs 1990s"
   ]
  },
  {
   "cell_type": "code",
   "execution_count": 35,
   "metadata": {},
   "outputs": [
    {
     "name": "stdout",
     "output_type": "stream",
     "text": [
      "WORD                     Corpus A Freq.Corpus B Freq.Keyness\n",
      "============================================================\n",
      "back                     80        15        43.221\n",
      "every                    51        10        26.601\n",
      "'em                      39        6         24.190\n",
      "road                     34        5         21.687\n",
      "like                     108       55        13.149\n",
      "need                     33        10        11.004\n",
      "good                     33        12        8.408\n",
      "free                     22        6         8.349\n",
      "always                   19        5         7.507\n",
      "whiskey                  20        6         6.757\n"
     ]
    }
   ],
   "source": [
    "## keyness analysis: key words in the 2010s subset vs those in 90s\n",
    "calculate_keyness(word_freq_2010s, word_freq_90s, top = 50)"
   ]
  },
  {
   "cell_type": "markdown",
   "metadata": {},
   "source": [
    "### Observations:\n",
    "\n",
    "- No clear plot can be distinguished from either of these keyness charts \n",
    "- \"Love\" appears to be significantly more key in the `all_90s` chart than in `all_2010s`; this could be because \"love\" is repeatedly used in core parts of the song such as the chorus\n",
    "- \"Boy\" is another key word than appears and may have more contextual, lyrical variety than \"love\"\n",
    "- \"Really\" is the only evaluative word in the first chart\n",
    "- \"Like\" is more present in country songs of the 2010s than the 1990s; can be used in a variety of ways \n",
    "- \"Whiskey\" and \"free\" are more key in 2010s than in 1990s"
   ]
  },
  {
   "cell_type": "markdown",
   "metadata": {},
   "source": [
    "## Female vs Male"
   ]
  },
  {
   "cell_type": "code",
   "execution_count": 36,
   "metadata": {},
   "outputs": [
    {
     "name": "stdout",
     "output_type": "stream",
     "text": [
      "WORD                     Corpus A Freq.Corpus B Freq.Keyness\n",
      "============================================================\n",
      "boy                      34        6         23.204\n",
      "every                    46        15        18.263\n",
      "kiss                     27        9         10.435\n",
      "said                     34        14        9.728\n",
      "prechorus                24        8         9.275\n",
      "thing                    25        9         8.740\n",
      "ever                     37        17        8.726\n",
      "let                      43        22        8.111\n",
      "name                     22        8         7.586\n",
      "without                  18        6         6.956\n"
     ]
    }
   ],
   "source": [
    "calculate_keyness(f_word_freq, m_word_freq, top = 50)"
   ]
  },
  {
   "cell_type": "markdown",
   "metadata": {},
   "source": [
    "## Male vs Female"
   ]
  },
  {
   "cell_type": "code",
   "execution_count": 37,
   "metadata": {},
   "outputs": [
    {
     "name": "stdout",
     "output_type": "stream",
     "text": [
      "WORD                     Corpus A Freq.Corpus B Freq.Keyness\n",
      "============================================================\n",
      "wanna                    57        14        25.619\n",
      "i'm                      114       58        15.622\n",
      "girl                     40        17        8.330\n"
     ]
    }
   ],
   "source": [
    "calculate_keyness(m_word_freq, f_word_freq, top = 50)"
   ]
  },
  {
   "cell_type": "markdown",
   "metadata": {},
   "source": [
    "### Observations:\n",
    "\n",
    "- I find it interesting that \"boy\" was key term in the `all_female` chart and \"girl\" was significant in the `all_male` chart\n",
    "- Some reference to the theme of 'love' with the term \"kiss\" in the `all_female` chart\n",
    "- \"Wanna\" and \"I'm\" don't leave much room for analysis from the Male vs Female Keyness"
   ]
  },
  {
   "cell_type": "markdown",
   "metadata": {},
   "source": [
    "## Part of Speech Tagging"
   ]
  },
  {
   "cell_type": "markdown",
   "metadata": {},
   "source": [
    "For the last part of my data story, I wanted to share my part of speech analysis that aimed to determined what kinds of words were used most frequently within the different decades and by artists of different genders."
   ]
  },
  {
   "cell_type": "markdown",
   "metadata": {},
   "source": [
    "## All 1990s"
   ]
  },
  {
   "cell_type": "code",
   "execution_count": 44,
   "metadata": {},
   "outputs": [
    {
     "name": "stdout",
     "output_type": "stream",
     "text": [
      "42.479946524064175 percent of the tokens in all 90s songs were verbs\n",
      "17.34625668449198 percent of the tokens in all 90s songs were adjectives\n"
     ]
    }
   ],
   "source": [
    "## what percentage of all tokens in 90s corpus are verbs/adjectives\n",
    "## divide sum of each counter by sum of total tokens counter\n",
    "\n",
    "verb_90s_perc = (sum(verb_90s_freq.values()) / sum(word_freq_90s.values()))* 100\n",
    "adj_90s_perc = (sum(adj_90s_freq.values()) / sum(word_freq_90s.values()))* 100\n",
    "\n",
    "print('{} percent of the tokens in all 90s songs were verbs'.format(verb_90s_perc))\n",
    "print('{} percent of the tokens in all 90s songs were adjectives'.format(adj_90s_perc))"
   ]
  },
  {
   "cell_type": "markdown",
   "metadata": {},
   "source": [
    "## All 2010s"
   ]
  },
  {
   "cell_type": "code",
   "execution_count": 43,
   "metadata": {
    "scrolled": false
   },
   "outputs": [
    {
     "name": "stdout",
     "output_type": "stream",
     "text": [
      "39.8196270253745 percent of the tokens in all 2010s songs were verbs\n",
      "16.70742892081932 percent of the tokens in all 2010s songs were adjectives\n"
     ]
    }
   ],
   "source": [
    "# what percentage of all tokens in 2010s corpus are verbs/adjectives\n",
    "## divide sum of each counter by sum of total tokens counter\n",
    "\n",
    "verb_2010s_perc = (sum(verb_2010s_freq.values()) / sum(word_freq_2010s.values()))* 100\n",
    "adj_2010s_perc = (sum(adj_2010s_freq.values()) / sum(word_freq_2010s.values()))* 100\n",
    "\n",
    "print('{} percent of the tokens in all 2010s songs were verbs'.format(verb_2010s_perc ))\n",
    "print('{} percent of the tokens in all 2010s songs were adjectives'.format(adj_2010s_perc))"
   ]
  },
  {
   "cell_type": "markdown",
   "metadata": {},
   "source": [
    "### Observations:\n",
    "\n",
    "Looking at these results, the proportion of verbs and adjectives in the 1990s and 2010s charts seem to be nearly identical, revealing that not one decade had more action words or descriptive words than the other. \n",
    "\n",
    "Now, I will take a look at these percentages within the charts of songs written my male and female artists."
   ]
  },
  {
   "cell_type": "markdown",
   "metadata": {},
   "source": [
    "## All Female"
   ]
  },
  {
   "cell_type": "code",
   "execution_count": 45,
   "metadata": {
    "scrolled": true
   },
   "outputs": [
    {
     "name": "stdout",
     "output_type": "stream",
     "text": [
      "43.145624692168774 percent of the tokens in all female songs were verbs\n",
      "17.271384009193895 percent of the tokens in all female songs were adjectives\n"
     ]
    }
   ],
   "source": [
    "verb_female_perc = (sum(verb_female_freq.values()) / sum(f_word_freq.values()))* 100\n",
    "adj_female_perc = (sum(adj_female_freq.values()) / sum(f_word_freq.values()))* 100\n",
    "\n",
    "print('{} percent of the tokens in all female songs were verbs'.format(verb_female_perc))\n",
    "print('{} percent of the tokens in all female songs were adjectives'.format(adj_female_perc))"
   ]
  },
  {
   "cell_type": "markdown",
   "metadata": {},
   "source": [
    "## All Male"
   ]
  },
  {
   "cell_type": "code",
   "execution_count": 47,
   "metadata": {},
   "outputs": [
    {
     "name": "stdout",
     "output_type": "stream",
     "text": [
      "39.14529914529915 percent of the tokens in all male songs were verbs\n",
      "16.767676767676768 percent of the tokens in all male songs were adjectives\n"
     ]
    }
   ],
   "source": [
    "verb_male_perc = (sum(verb_male_freq.values()) / sum(m_word_freq.values()))* 100\n",
    "adj_male_perc = (sum(adj_male_freq.values()) / sum(m_word_freq.values()))* 100\n",
    "\n",
    "print('{} percent of the tokens in all male songs were verbs'.format(verb_male_perc))\n",
    "print('{} percent of the tokens in all male songs were adjectives'.format(adj_male_perc))"
   ]
  },
  {
   "cell_type": "markdown",
   "metadata": {},
   "source": [
    "### Observations: \n",
    "\n",
    "Looking above, female and male artists seem to use verbs and adjectives in almost equal proportions as well, showing that the part of speeches of words across time are pretty consistent. Additionally, verbs are used significantly more than adjectives by both male and female artists. \n",
    "\n",
    "In fact, within the part of speech tagging referenced in this section, all of the same verbs and adjectives appeared, which references the remarkable similarity in country music over time. "
   ]
  },
  {
   "cell_type": "markdown",
   "metadata": {},
   "source": [
    "## CONCLUDING REMARKS / DISCUSSION"
   ]
  },
  {
   "cell_type": "markdown",
   "metadata": {},
   "source": [
    "While working on this final project, one of the primary questions and worries I had with this endeavor was, even if particular words were used across decades and genders, how would I really be able to distinguish the true contexts of each word being used? More specifically, how could I distinguish musical sound-based differences from textual, lyrical differences? \n",
    "\n",
    "Before delving into my findings, I think it is important to acknowledge inherent drawbacks of my project before I highlight the strengths! Given the specificity of my research questions -  personally choosing which decades to analyze and which songs to filter through may have skewed my analysis. I believe that including hit songs from country's earliest days may have been a really interesting additional component to my research project. That being said, I still think I discovered some valuable insight on how the country music genre has evolved over time. \n",
    "\n",
    "Going through this notebook, I highlighted some lyrical similarities and differences found in lyrics between the decades and by male and female artists. I found that words and phrases used in the 1990s were also used more recently in country music of the 2010s. While shifts in country music sound and style may have surprised country genre supporters and artists, it seems to be that the messages and preaches of songs over time haven't changed all that much. \n",
    "\n",
    "When looking at similarities and differences between male and female artists, my hypothesis standards correct - that there *are in fact*  more significant distinctions between lyrics written by male and female artists than there are between lyrics of different times. \n",
    "\n",
    "If I were to build on my current analysis for this project, I would have taken a closer look at the actual songwriters - not just the artist(s) of every song - because that might reveal even more particular results than what I explored throughout this notebook and my data analysis notebooks. In other words, my analysis might have been more targeted and precise if I analyzed songs written by the best songwriters of specific decades and then split them up into gender dictionaries. \n",
    "\n",
    "Thank you for coming along with me on my journey to understanding the evolution of country music over time! I hope you enjoyed it!"
   ]
  }
 ],
 "metadata": {
  "kernelspec": {
   "display_name": "Python 3",
   "language": "python",
   "name": "python3"
  },
  "language_info": {
   "codemirror_mode": {
    "name": "ipython",
    "version": 3
   },
   "file_extension": ".py",
   "mimetype": "text/x-python",
   "name": "python",
   "nbconvert_exporter": "python",
   "pygments_lexer": "ipython3",
   "version": "3.7.3"
  }
 },
 "nbformat": 4,
 "nbformat_minor": 2
}
