{
 "cells": [
  {
   "cell_type": "markdown",
   "metadata": {},
   "source": [
    "## KWIC Concordance & Collocation Analyses\n",
    "\n",
    "### In this notebook, you will find:\n",
    "- Loaded corpora from JSON files of various song dictionaries \n",
    "- Detailed text analysis of lyrics, separated by section headers\n",
    "- KWIC Concordances are used to help detect patterns and relationships with specific words and find meaning alongside context\n",
    "- Collocation is supplementary to KWIC analysis; it is better organizes the KWIC data and works to provide context for the usage of certain words "
   ]
  },
  {
   "cell_type": "code",
   "execution_count": 1,
   "metadata": {},
   "outputs": [],
   "source": [
    "%run functions.ipynb"
   ]
  },
  {
   "cell_type": "markdown",
   "metadata": {},
   "source": [
    "## Additional Modules"
   ]
  },
  {
   "cell_type": "code",
   "execution_count": 2,
   "metadata": {},
   "outputs": [
    {
     "name": "stderr",
     "output_type": "stream",
     "text": [
      "[nltk_data] Downloading package stopwords to /Commjhub/jupyterhub/comm\n",
      "[nltk_data]     318_fall2019/jpasik123/nltk_data...\n",
      "[nltk_data]   Package stopwords is already up-to-date!\n"
     ]
    }
   ],
   "source": [
    "#Additional modules\n",
    "import os\n",
    "import pandas as pd\n",
    "import re\n",
    "import json\n",
    "import requests\n",
    "from bs4 import BeautifulSoup\n",
    "import lyricsgenius\n",
    "from collections import Counter\n",
    "import nltk\n",
    "from nltk import Text\n",
    "nltk.download('stopwords')\n",
    "from nltk.corpus import stopwords\n",
    "stop_words = stopwords.words('english')\n",
    "sect_stoppers = ['pre-chorus','refrain','chorus','verse','intro','outro','bridge','verse 1','verse 2','verse 3','verse 4','1','2','3','4','Tim McGraw','Faith Hill','Tim McGraw & Faith Hill']\n",
    "for x in sect_stoppers:\n",
    "    stop_words.append(x)\n",
    "# pos tagging\n",
    "from nltk import pos_tag, pos_tag_sents, FreqDist, ConditionalFreqDist"
   ]
  },
  {
   "cell_type": "code",
   "execution_count": 3,
   "metadata": {},
   "outputs": [],
   "source": [
    "char_to_strip = '.,!][?;$\"-()'"
   ]
  },
  {
   "cell_type": "code",
   "execution_count": 4,
   "metadata": {},
   "outputs": [],
   "source": [
    "all_charts = json.load(open('../data/charts/all_charts.json'))"
   ]
  },
  {
   "cell_type": "markdown",
   "metadata": {},
   "source": [
    "## KWIC Concordance Analysis & Collocation Analysis"
   ]
  },
  {
   "cell_type": "markdown",
   "metadata": {},
   "source": [
    "Given that the word \"love\" frequently appears in all corpora for this project, I've decided to start off my KWIC analysis using this term and analyzing it across the decades and genders. "
   ]
  },
  {
   "cell_type": "markdown",
   "metadata": {},
   "source": [
    "## All 1990s - \"Love\""
   ]
  },
  {
   "cell_type": "code",
   "execution_count": 8,
   "metadata": {},
   "outputs": [
    {
     "name": "stdout",
     "output_type": "stream",
     "text": [
      "\"love\" occurs 108 times in your lyrics\n",
      "                                          love  is unconditional we knew\n",
      "                     you'll never find a  love  as true as mine\n",
      "                     you'll never find a  love  as true as mine\n",
      "                     you'll never find a  love  as true as mine\n",
      "                          true as mine a  love  as true as mine\n",
      "                         and then it's a  love  without end amen it's\n",
      "                         end amen it's a  love  without end amen when\n",
      "                      and a little about  love  a lot about livin'\n",
      "                     worn out line about  love  at first sight well\n",
      "                      and a little about  love  aw haw well we\n",
      "                      and a little about  love  well way down yonder\n",
      "                      and a little about  love  yeaheee that's right \n",
      "                      she can't help but  love  him for the way\n",
      "                         and how you can  love  like this 'cause i'm\n",
      "                        you in a country  love  song summer night beauty\n",
      "                     snow white how does  love  get so off course\n",
      "                   of pretending i don't  love  you anymore let me\n",
      "                 keep pretending i don't  love  you anymore i've got\n",
      "                   of pretending i don't  love  you anymore anymore anymore\n",
      "                 secret about a father's  love  a secret that my\n",
      "                restless summer we found  love  growing wild on the\n",
      "                             i like it i  love  it i want some\n",
      "                             i like it i  love  it i want some\n",
      "                             i like it i  love  it i want some\n",
      "                             i like it i  love  it i want some\n",
      "                             i like it i  love  it i want some\n",
      "                             i like it i  love  it i want some\n",
      "                        maria oh marie i  love  you girl oh my\n",
      "                        maria oh marie i  love  you girl maria i\n",
      "                        you girl maria i  love  you my maria there\n",
      "                        maria oh marie i  love  you girl oh my\n",
      "                        maria oh marie i  love  you girl maria i\n",
      "                        you girl maria i  love  you my maria oh\n",
      "                        maria oh marie i  love  you girl oh my\n",
      "                        maria oh marie i  love  you girl maria i\n",
      "                        you girl maria i  love  you my maria oh\n",
      "                        maria oh marie i  love  you girl oh my\n",
      "                        maria oh marie i  love  you girl maria i\n",
      "                        you girl maria i  love  you my maria oh\n",
      "                        maria oh marie i  love  you girl oh my\n",
      "                        maria oh marie i  love  you girl maria i\n",
      "                        you girl maria i  love  you my maria oh\n",
      "                        maria oh marie i  love  you girl oh my\n",
      "                        maria oh marie i  love  you girl maria i\n",
      "                        you girl maria i  love  you   \n",
      "                     looks like she's in  love  and i'm out of\n",
      "                     looks like she's in  love  and i'm out of\n",
      "                      like we're even in  love  it matters to me\n",
      "                      like we're even in  love  it matters to me\n",
      "                 tommy anywhere she's in  love  with the boy she's\n",
      "                        the boy she's in  love  with the boy she's\n",
      "                        the boy she's in  love  with the boy and\n",
      "                 tommy anywhere she's in  love  with the boy she's\n",
      "                        the boy she's in  love  with the boy she's\n",
      "                        the boy she's in  love  with the boy and\n",
      "                         at you she's in  love  with the boy she's\n",
      "                        the boy she's in  love  with the boy she's\n",
      "                        the boy she's in  love  with the boy what's\n",
      "                          a way she's in  love  with the boy she's\n",
      "                        the boy she's in  love  with the boy she's\n",
      "                        the boy she's in  love  with the boy what's\n",
      "                    boy someday she's in  love  with the boy \n",
      "                 said daddies don't just  love  their children every now\n",
      "                       the promise of my  love  to keep you warm\n",
      "                       there would be no  love  in my life there'd\n",
      "                       my first taste of  love  oh bittersweet the green\n",
      "                       my first taste of  love  oh bittersweet the green\n",
      "                       my first taste of  love  oh bittersweet the green\n",
      "                         got the kind of  love  people dream about don't\n",
      "                     for sleepin' if our  love  is wearin' thin cause\n",
      "                        in don't let our  love  start slippin' love start\n",
      "                  everyday don't let our  love  start slippin' love start\n",
      "                     about don't let our  love  start slippin' love start\n",
      "                  everyday don't let our  love  start slippin' love start\n",
      "                        on don't let our  love  start slippin' love start\n",
      "                  everyday don't let our  love  start slippin' love start\n",
      "                      away don't let our  love  start slippin' love start\n",
      "                 our love start slippin'  love  start slippin' away cause\n",
      "                 our love start slippin'  love  start slippin' away a\n",
      "                 our love start slippin'  love  start slippin' away cause\n",
      "                 our love start slippin'  love  start slippin' away it's\n",
      "                 our love start slippin'  love  start slippin' away cause\n",
      "                 our love start slippin'  love  start slippin' away don't\n",
      "                 our love start slippin'  love  start slippin' away \n",
      "                   she once thought that  love  wasn't just a game\n",
      "                       and share all the  love  and laughter that a\n",
      "                    star she only wanted  love  never bargained for this\n",
      "                         she the one who  love  drama keep it heated\n",
      "                 slippin' away a wounded  love  walks a real thin\n",
      "                        it's the way you  love  me it's a feeling\n",
      "                        it's the way you  love  me it's a feeling\n",
      "                        it's the way you  love  me the way it's\n",
      "                        it's the way you  love  me baby the way\n",
      "                        baby the way you  love  me baby it's the\n",
      "                        it's the way you  love  me darling yeah it's\n",
      "                        it's the way you  love  me the way it's\n",
      "                        it's the way you  love  me baby the way\n",
      "                        baby the way you  love  me baby it's the\n",
      "                        it's the way you  love  me darling yeah it's\n",
      "                        it's the way you  love  me it's a feeling\n",
      "                     your love it's your  love     \n",
      "                     i'm under it's your  love  better than i was\n",
      "                         me go it's your  love  it just does something\n",
      "                    sweet name it's your  love  it just does somethin'\n",
      "                         me go it's your  love  it just does something'\n",
      "                     i'm under it's your  love  it's your love it's\n",
      "                     your love it's your  love  it's your love \n",
      "                     i'm under it's your  love  oh baby oh it's\n"
     ]
    }
   ],
   "source": [
    "#create list of KWIC concordance lines of \"love\" from 'all_90s'\n",
    "kwic_love_90s = []\n",
    "for song in all_charts['all_90s']:\n",
    "    if song.get('tokens'):\n",
    "        kwic_rel_love90s = make_kwic('love', song['tokens'])\n",
    "        kwic_love_90s.extend(kwic_rel_love90s)\n",
    "        \n",
    "print(f'\"love\" occurs {len(kwic_love_90s)} times in your lyrics')\n",
    "\n",
    "#sort and view them\n",
    "love_sorted_90s = sort_kwic(kwic_love_90s, ['L1','R1'])\n",
    "print_kwic(love_sorted_90s)"
   ]
  },
  {
   "cell_type": "code",
   "execution_count": 10,
   "metadata": {},
   "outputs": [],
   "source": [
    "##love collocation 90s\n",
    "love_90s_colls = Counter()\n",
    "for song in range(len(all_charts['all_90s'])):\n",
    "    love_90s_colls.update(collocates(tokenize(all_charts['all_90s'][song]['lyrics']),'love', [3,3]))"
   ]
  },
  {
   "cell_type": "code",
   "execution_count": 12,
   "metadata": {},
   "outputs": [
    {
     "data": {
      "text/plain": [
       "[('I', 33),\n",
       " ('you', 28),\n",
       " ('the', 26),\n",
       " ('boy', 21),\n",
       " ('in', 19),\n",
       " ('(Oh,', 18),\n",
       " ('girl)', 18),\n",
       " (\"It's\", 15),\n",
       " (\"She's\", 13),\n",
       " ('with', 13),\n",
       " ('a', 13),\n",
       " ('Marie,', 12),\n",
       " ('(Maria)', 12),\n",
       " ('it,', 12),\n",
       " ('way', 11),\n",
       " ('like', 9),\n",
       " ('as', 9),\n",
       " ('your', 9),\n",
       " ('our', 8),\n",
       " ('about', 7),\n",
       " ('A', 7),\n",
       " (\"Don't\", 7),\n",
       " ('let', 7),\n",
       " ('start', 7),\n",
       " (\"slippin'\", 7)]"
      ]
     },
     "execution_count": 12,
     "metadata": {},
     "output_type": "execute_result"
    }
   ],
   "source": [
    "love_90s_colls.most_common(25)"
   ]
  },
  {
   "cell_type": "markdown",
   "metadata": {},
   "source": [
    "Above, I ran both KWIC and collocation analyses to see if the word \"love\" is used differently in any songs from the `all_90s` chart. Scanning through the printed results from the KWIC analysis, due to the great repetition of certain lines, it seems that \"love\" is recurring from the choruses of the '90s songs. \"Love\" is either used in the lyrics as a profession of love with the pretexts of \"I\" (from \"I love you\") or the term is used more generally, when the artists are speaking about a love story. I predict the indirect and direct uses of this term will yield similar results in the other corpora. "
   ]
  },
  {
   "cell_type": "markdown",
   "metadata": {},
   "source": [
    "## All 2010s - \"Love\""
   ]
  },
  {
   "cell_type": "code",
   "execution_count": 13,
   "metadata": {},
   "outputs": [
    {
     "name": "stdout",
     "output_type": "stream",
     "text": [
      "\"love\" occurs 19 times in your lyrics\n",
      "                   well sunsets fade and  love  does too yeah we\n",
      "                    you sunsets fade and  love  does too we had\n",
      "                    you sunsets fade and  love  does too though we\n",
      "                      and rescue me felt  love  pouring down from above\n",
      "                  you thought you'd find  love  isn't all that it\n",
      "                      someone you love i  love  you ain't no pickup\n",
      "                      we were fallin' in  love  in the sweet heart\n",
      "                          time i fell in  love  with a careless man's\n",
      "                          all we need is  love  just as free free\n",
      "                       love who you love  love  who you love 'cause\n",
      "                        went up in smoke  love  isn't all that it\n",
      "                    take for granted the  love  this life gives you\n",
      "                      say what you think  love  who you love love\n",
      "                      why we bother with  love  if it never lasts\n",
      "                       love love who you  love  'cause you just get\n",
      "               sleepin' with someone you  love  i love you ain't\n",
      "                      think love who you  love  love who you love\n",
      "                         how i need your  love  how i need your\n",
      "                         how i need your  love  yeah it sinks in\n"
     ]
    }
   ],
   "source": [
    "#create list of KWIC concordance lines of \"love\" from 'all_2010s'\n",
    "kwic_love_2010s = []\n",
    "for song in all_charts['all_2010s']:\n",
    "    if song.get('tokens'):\n",
    "        kwic_rel_love2010s = make_kwic('love', song['tokens'])\n",
    "        kwic_love_2010s.extend(kwic_rel_love2010s)\n",
    "        \n",
    "print(f'\"love\" occurs {len(kwic_love_2010s)} times in your lyrics')\n",
    "\n",
    "#sort and view them\n",
    "love_sorted_2010s = sort_kwic(kwic_love_2010s, ['L1','R1'])\n",
    "print_kwic(love_sorted_2010s)"
   ]
  },
  {
   "cell_type": "code",
   "execution_count": 15,
   "metadata": {},
   "outputs": [],
   "source": [
    "##love collocation 2010s\n",
    "love_2010s_colls = Counter()\n",
    "for song in range(len(all_charts['all_2010s'])):\n",
    "    love_2010s_colls.update(collocates(tokenize(all_charts['all_2010s'][song]['lyrics']),'love', [3,3]))"
   ]
  },
  {
   "cell_type": "code",
   "execution_count": 16,
   "metadata": {},
   "outputs": [
    {
     "data": {
      "text/plain": [
       "[('you', 4),\n",
       " ('in', 3),\n",
       " ('fade,', 3),\n",
       " ('and', 3),\n",
       " ('does,', 3),\n",
       " ('too', 3),\n",
       " ('with', 2),\n",
       " ('who', 2),\n",
       " ('Sunsets', 2),\n",
       " ('the', 2),\n",
       " ('\"I', 2),\n",
       " ('love', 2),\n",
       " ('you\"', 2),\n",
       " ('I', 1),\n",
       " ('fell', 1),\n",
       " ('a', 1),\n",
       " ('careless', 1),\n",
       " ('Love', 1),\n",
       " ('(Love', 1),\n",
       " ('rescue', 1),\n",
       " ('me.\"', 1),\n",
       " ('Felt', 1),\n",
       " ('pouring', 1),\n",
       " ('down', 1),\n",
       " ('from', 1)]"
      ]
     },
     "execution_count": 16,
     "metadata": {},
     "output_type": "execute_result"
    }
   ],
   "source": [
    "love_2010s_colls.most_common(25)"
   ]
  },
  {
   "cell_type": "markdown",
   "metadata": {},
   "source": [
    "Taking into account that the word \"love\" appeared significantly less in the `all_2010s` data (19 times compared to 108 in `all_90s`), I figured the context would be different as well. While in the '90s data, \"love\" seemed to have primarily positive connotations, in the 2010s data, \"love\" seems to occur in lines that reveal a more negative, dismal context. The `all_2010s` data places \"love\" around words and phrases that reference love fading, love not being all it is expected to be, etc. Even looking at the collocations, \"love\" is surrounded by words such as \"fade\", \"rescue\", and \"careless\". "
   ]
  },
  {
   "cell_type": "markdown",
   "metadata": {},
   "source": [
    "## All Female - \"Love\""
   ]
  },
  {
   "cell_type": "code",
   "execution_count": 17,
   "metadata": {},
   "outputs": [
    {
     "name": "stdout",
     "output_type": "stream",
     "text": [
      "\"love\" occurs 49 times in your lyrics\n",
      "                   well sunsets fade and  love  does too yeah we\n",
      "                    you sunsets fade and  love  does too we had\n",
      "                    you sunsets fade and  love  does too though we\n",
      "                      she can't help but  love  him for the way\n",
      "                         and how you can  love  like this 'cause i'm\n",
      "                        you in a country  love  song summer night beauty\n",
      "                     snow white how does  love  get so off course\n",
      "                      and rescue me felt  love  pouring down from above\n",
      "                  you thought you'd find  love  isn't all that it\n",
      "                restless summer we found  love  growing wild on the\n",
      "                      like we're even in  love  it matters to me\n",
      "                      like we're even in  love  it matters to me\n",
      "                 tommy anywhere she's in  love  with the boy she's\n",
      "                        the boy she's in  love  with the boy she's\n",
      "                        the boy she's in  love  with the boy and\n",
      "                 tommy anywhere she's in  love  with the boy she's\n",
      "                        the boy she's in  love  with the boy she's\n",
      "                        the boy she's in  love  with the boy and\n",
      "                         at you she's in  love  with the boy she's\n",
      "                        the boy she's in  love  with the boy she's\n",
      "                        the boy she's in  love  with the boy what's\n",
      "                          a way she's in  love  with the boy she's\n",
      "                        the boy she's in  love  with the boy she's\n",
      "                        the boy she's in  love  with the boy what's\n",
      "                    boy someday she's in  love  with the boy \n",
      "                          time i fell in  love  with a careless man's\n",
      "                       love who you love  love  who you love 'cause\n",
      "                       there would be no  love  in my life there'd\n",
      "                       my first taste of  love  oh bittersweet the green\n",
      "                       my first taste of  love  oh bittersweet the green\n",
      "                       my first taste of  love  oh bittersweet the green\n",
      "                        went up in smoke  love  isn't all that it\n",
      "                   she once thought that  love  wasn't just a game\n",
      "                      say what you think  love  who you love love\n",
      "                    star she only wanted  love  never bargained for this\n",
      "                      why we bother with  love  if it never lasts\n",
      "                       love love who you  love  'cause you just get\n",
      "                      think love who you  love  love who you love\n",
      "                        it's the way you  love  me it's a feeling\n",
      "                        it's the way you  love  me it's a feeling\n",
      "                        it's the way you  love  me the way it's\n",
      "                        it's the way you  love  me baby the way\n",
      "                        baby the way you  love  me baby it's the\n",
      "                        it's the way you  love  me darling yeah it's\n",
      "                        it's the way you  love  me the way it's\n",
      "                        it's the way you  love  me baby the way\n",
      "                        baby the way you  love  me baby it's the\n",
      "                        it's the way you  love  me darling yeah it's\n",
      "                        it's the way you  love  me it's a feeling\n"
     ]
    }
   ],
   "source": [
    "#create list of KWIC concordance lines of \"love\" from 'all_female'\n",
    "kwic_love_f = []\n",
    "for song in all_charts['all_female']:\n",
    "    if song.get('tokens'):\n",
    "        kwic_rel_love_f = make_kwic('love', song['tokens'])\n",
    "        kwic_love_f.extend(kwic_rel_love_f)\n",
    "        \n",
    "print(f'\"love\" occurs {len(kwic_love_f)} times in your lyrics')\n",
    "\n",
    "#sort and view them\n",
    "love_sorted_f = sort_kwic(kwic_love_f, ['L1','R1'])\n",
    "print_kwic(love_sorted_f)"
   ]
  },
  {
   "cell_type": "code",
   "execution_count": 19,
   "metadata": {},
   "outputs": [],
   "source": [
    "##love collocation all female\n",
    "love_f_colls = Counter()\n",
    "for song in range(len(all_charts['all_female'])):\n",
    "    love_f_colls.update(collocates(tokenize(all_charts['all_female'][song]['lyrics']),'love', [3,3]))"
   ]
  },
  {
   "cell_type": "code",
   "execution_count": 20,
   "metadata": {},
   "outputs": [
    {
     "data": {
      "text/plain": [
       "[('the', 23),\n",
       " ('boy', 21),\n",
       " ('in', 18),\n",
       " ('with', 14),\n",
       " ('you', 14),\n",
       " (\"She's\", 13),\n",
       " ('way', 11),\n",
       " ('a', 6),\n",
       " ('me', 6),\n",
       " ('(The', 6),\n",
       " (\"It's\", 5),\n",
       " ('me,', 5),\n",
       " ('[Chorus]', 4),\n",
       " ('fade,', 3),\n",
       " ('and', 3),\n",
       " ('does,', 3),\n",
       " ('too', 3),\n",
       " (\"we're\", 2),\n",
       " ('even', 2),\n",
       " ('It', 2),\n",
       " ('matters', 2),\n",
       " ('to', 2),\n",
       " ('way)', 2),\n",
       " ('baby', 2),\n",
       " ('baby)', 2)]"
      ]
     },
     "execution_count": 20,
     "metadata": {},
     "output_type": "execute_result"
    }
   ],
   "source": [
    "love_f_colls.most_common(25)"
   ]
  },
  {
   "cell_type": "markdown",
   "metadata": {},
   "source": [
    "Here, only three words really stuck out to me from the collocation analysis of `all_female` songs, and those were: \"in\", \"with\", and \"you\". These words stand out the most to me because they can link to the message of 'being in love' or 'falling in love' with someone.  "
   ]
  },
  {
   "cell_type": "markdown",
   "metadata": {},
   "source": [
    "## All Male - \"Love\""
   ]
  },
  {
   "cell_type": "code",
   "execution_count": 21,
   "metadata": {},
   "outputs": [
    {
     "name": "stdout",
     "output_type": "stream",
     "text": [
      "\"love\" occurs 78 times in your lyrics\n",
      "                                          love  is unconditional we knew\n",
      "                     you'll never find a  love  as true as mine\n",
      "                     you'll never find a  love  as true as mine\n",
      "                     you'll never find a  love  as true as mine\n",
      "                          true as mine a  love  as true as mine\n",
      "                         and then it's a  love  without end amen it's\n",
      "                         end amen it's a  love  without end amen when\n",
      "                      and a little about  love  a lot about livin'\n",
      "                     worn out line about  love  at first sight well\n",
      "                      and a little about  love  aw haw well we\n",
      "                      and a little about  love  well way down yonder\n",
      "                      and a little about  love  yeaheee that's right \n",
      "                   of pretending i don't  love  you anymore let me\n",
      "                 keep pretending i don't  love  you anymore i've got\n",
      "                   of pretending i don't  love  you anymore anymore anymore\n",
      "                 secret about a father's  love  a secret that my\n",
      "                             i like it i  love  it i want some\n",
      "                             i like it i  love  it i want some\n",
      "                             i like it i  love  it i want some\n",
      "                             i like it i  love  it i want some\n",
      "                             i like it i  love  it i want some\n",
      "                             i like it i  love  it i want some\n",
      "                        maria oh marie i  love  you girl oh my\n",
      "                        maria oh marie i  love  you girl maria i\n",
      "                        you girl maria i  love  you my maria there\n",
      "                        maria oh marie i  love  you girl oh my\n",
      "                        maria oh marie i  love  you girl maria i\n",
      "                        you girl maria i  love  you my maria oh\n",
      "                        maria oh marie i  love  you girl oh my\n",
      "                        maria oh marie i  love  you girl maria i\n",
      "                        you girl maria i  love  you my maria oh\n",
      "                        maria oh marie i  love  you girl oh my\n",
      "                        maria oh marie i  love  you girl maria i\n",
      "                        you girl maria i  love  you my maria oh\n",
      "                        maria oh marie i  love  you girl oh my\n",
      "                        maria oh marie i  love  you girl maria i\n",
      "                        you girl maria i  love  you my maria oh\n",
      "                        maria oh marie i  love  you girl oh my\n",
      "                        maria oh marie i  love  you girl maria i\n",
      "                        you girl maria i  love  you   \n",
      "                      someone you love i  love  you ain't no pickup\n",
      "                     looks like she's in  love  and i'm out of\n",
      "                     looks like she's in  love  and i'm out of\n",
      "                      we were fallin' in  love  in the sweet heart\n",
      "                          all we need is  love  just as free free\n",
      "                 said daddies don't just  love  their children every now\n",
      "                       the promise of my  love  to keep you warm\n",
      "                         got the kind of  love  people dream about don't\n",
      "                     for sleepin' if our  love  is wearin' thin cause\n",
      "                        in don't let our  love  start slippin' love start\n",
      "                  everyday don't let our  love  start slippin' love start\n",
      "                     about don't let our  love  start slippin' love start\n",
      "                  everyday don't let our  love  start slippin' love start\n",
      "                        on don't let our  love  start slippin' love start\n",
      "                  everyday don't let our  love  start slippin' love start\n",
      "                      away don't let our  love  start slippin' love start\n",
      "                 our love start slippin'  love  start slippin' away cause\n",
      "                 our love start slippin'  love  start slippin' away a\n",
      "                 our love start slippin'  love  start slippin' away cause\n",
      "                 our love start slippin'  love  start slippin' away it's\n",
      "                 our love start slippin'  love  start slippin' away cause\n",
      "                 our love start slippin'  love  start slippin' away don't\n",
      "                 our love start slippin'  love  start slippin' away \n",
      "                       and share all the  love  and laughter that a\n",
      "                    take for granted the  love  this life gives you\n",
      "                         she the one who  love  drama keep it heated\n",
      "                 slippin' away a wounded  love  walks a real thin\n",
      "               sleepin' with someone you  love  i love you ain't\n",
      "                     your love it's your  love     \n",
      "                     i'm under it's your  love  better than i was\n",
      "                         how i need your  love  how i need your\n",
      "                         me go it's your  love  it just does something\n",
      "                    sweet name it's your  love  it just does somethin'\n",
      "                         me go it's your  love  it just does something'\n",
      "                     i'm under it's your  love  it's your love it's\n",
      "                     your love it's your  love  it's your love \n",
      "                     i'm under it's your  love  oh baby oh it's\n",
      "                         how i need your  love  yeah it sinks in\n"
     ]
    }
   ],
   "source": [
    "#create list of KWIC concordance lines of \"love\" from 'all_male'\n",
    "kwic_love_m = []\n",
    "for song in all_charts['all_male']:\n",
    "    if song.get('tokens'):\n",
    "        kwic_rel_love_m = make_kwic('love', song['tokens'])\n",
    "        kwic_love_m.extend(kwic_rel_love_m)\n",
    "        \n",
    "print(f'\"love\" occurs {len(kwic_love_m)} times in your lyrics')\n",
    "\n",
    "#sort and view them\n",
    "love_sorted_m = sort_kwic(kwic_love_m, ['L1','R1'])\n",
    "print_kwic(love_sorted_m)"
   ]
  },
  {
   "cell_type": "code",
   "execution_count": 22,
   "metadata": {},
   "outputs": [],
   "source": [
    "##love collocation all male\n",
    "love_m_colls = Counter()\n",
    "for song in range(len(all_charts['all_male'])):\n",
    "    love_m_colls.update(collocates(tokenize(all_charts['all_male'][song]['lyrics']),'love', [3,3]))"
   ]
  },
  {
   "cell_type": "code",
   "execution_count": 23,
   "metadata": {},
   "outputs": [
    {
     "data": {
      "text/plain": [
       "[('I', 33),\n",
       " ('(Oh,', 18),\n",
       " ('you', 18),\n",
       " ('girl)', 18),\n",
       " ('Marie,', 12),\n",
       " ('(Maria)', 12),\n",
       " ('it,', 12),\n",
       " (\"It's\", 10),\n",
       " ('as', 10),\n",
       " ('your', 9),\n",
       " ('a', 8),\n",
       " ('our', 8),\n",
       " ('like', 8),\n",
       " ('about', 7),\n",
       " ('A', 7),\n",
       " (\"Don't\", 7),\n",
       " ('let', 7),\n",
       " ('start', 7),\n",
       " (\"slippin'\", 7),\n",
       " ('Love', 7),\n",
       " ('you,', 6),\n",
       " ('[Verse', 6),\n",
       " ('want', 6),\n",
       " ('the', 5),\n",
       " ('My', 4)]"
      ]
     },
     "execution_count": 23,
     "metadata": {},
     "output_type": "execute_result"
    }
   ],
   "source": [
    "love_m_colls.most_common(25)"
   ]
  },
  {
   "cell_type": "markdown",
   "metadata": {},
   "source": [
    "One difference I noticed in the `all_male` data that does not appear in the `all_female` data is that \"I\" prefaces \"love\" significantly more in songs written by male artists. Again, you can see from the concordance lines that there is a lot of repetition that stems from the word \"love\" appearing in core parts of the songs such as the choruses. \n",
    "\n",
    "For the next part of this notebook, I have decided to analyze the word \"heart\" in the same dictionaries examined above. "
   ]
  },
  {
   "cell_type": "markdown",
   "metadata": {},
   "source": [
    "## All 1990s - \"Heart\""
   ]
  },
  {
   "cell_type": "code",
   "execution_count": 25,
   "metadata": {},
   "outputs": [
    {
     "name": "stdout",
     "output_type": "stream",
     "text": [
      "\"heart\" occurs 30 times in your lyrics\n",
      "                    heart my achy breaky  heart  he might blow up\n",
      "                    heart my achy breaky  heart  he might blow up\n",
      "                    heart my achy breaky  heart  he might blow up\n",
      "                    heart my achy breaky  heart  he might blow up\n",
      "                    heart my achy breaky  heart  i just don't think\n",
      "                    heart my achy breaky  heart  i just don't think\n",
      "                    heart my achy breaky  heart  i just don't think\n",
      "                    heart my achy breaky  heart  i just don't think\n",
      "                      knight with a good  heart  soft touch fast horse\n",
      "                       tied the knot his  heart  wasn't in it he\n",
      "                        allow i cross my  heart  and promise to give\n",
      "                           be i cross my  heart  and promise to give\n",
      "                        to you mmmhmm my  heart  can't take the beating\n",
      "                         feel it from my  heart  from here on after\n",
      "                          a prayer in my  heart  i should've been a\n",
      "                      you're my world my  heart  my soul and if\n",
      "                       but don't tell my  heart  my achy breaky heart\n",
      "                          if you tell my  heart  my achy breaky heart\n",
      "                       but don't tell my  heart  my achy breaky heart\n",
      "                          if you tell my  heart  my achy breaky heart\n",
      "                       ooh don't tell my  heart  my achy breaky heart\n",
      "                          if you tell my  heart  my achy breaky heart\n",
      "                       man don't tell my  heart  my achy breaky heart\n",
      "                          if you tell my  heart  my achy breaky heart\n",
      "                       speak right to my  heart  without saying a word\n",
      "                        gave me take the  heart  from my chest i'll\n",
      "                      once came from the  heart  one day i gave\n",
      "                 being said between your  heart  and mine the smile\n",
      "                   the night takin' your  heart  and holdin' it tight\n",
      "                         so open up your  heart  baby we can work\n"
     ]
    }
   ],
   "source": [
    "#create list of KWIC concordance lines of \"heart\" from 'all_90s'\n",
    "kwic_heart_90s = []\n",
    "for song in all_charts['all_90s']:\n",
    "    if song.get('tokens'):\n",
    "        kwic_rel_heart90s = make_kwic('heart', song['tokens'])\n",
    "        kwic_heart_90s.extend(kwic_rel_heart90s)\n",
    "        \n",
    "print(f'\"heart\" occurs {len(kwic_heart_90s)} times in your lyrics')\n",
    "\n",
    "#sort and view them\n",
    "heart_sorted_90s = sort_kwic(kwic_heart_90s, ['L1','R1'])\n",
    "print_kwic(heart_sorted_90s)"
   ]
  },
  {
   "cell_type": "code",
   "execution_count": 26,
   "metadata": {},
   "outputs": [],
   "source": [
    "##heart collocation 90s\n",
    "heart_90s_colls = Counter()\n",
    "for song in range(len(all_charts['all_90s'])):\n",
    "    heart_90s_colls.update(collocates(tokenize(all_charts['all_90s'][song]['lyrics']),'heart', [3,3]))"
   ]
  },
  {
   "cell_type": "code",
   "execution_count": 27,
   "metadata": {},
   "outputs": [
    {
     "data": {
      "text/plain": [
       "[('my', 14),\n",
       " ('I', 8),\n",
       " ('achy', 8),\n",
       " ('breaky', 8),\n",
       " ('and', 4),\n",
       " ('the', 4),\n",
       " ('just', 4),\n",
       " (\"don't\", 4),\n",
       " ('He', 4),\n",
       " ('might', 4),\n",
       " ('blow', 4),\n",
       " ('to', 3),\n",
       " ('your', 3),\n",
       " ('from', 3),\n",
       " ('it', 3),\n",
       " ('a', 2),\n",
       " ('[Chorus]', 2),\n",
       " ('in', 2),\n",
       " ('cross', 2),\n",
       " ('promise', 2),\n",
       " ('right', 1),\n",
       " ('Without', 1),\n",
       " ('saying', 1),\n",
       " ('said', 1),\n",
       " ('between', 1)]"
      ]
     },
     "execution_count": 27,
     "metadata": {},
     "output_type": "execute_result"
    }
   ],
   "source": [
    "heart_90s_colls.most_common(25)"
   ]
  },
  {
   "cell_type": "markdown",
   "metadata": {},
   "source": [
    "\"Heart\" frequently prefaced by \"my\"; the \"achy\" and \"breaky\" clearly stems from Billy Ray Cyrus' '90s hit, \"Achy Breaky Heart\". That being said, there is really any significant contextual differences in the way \"heart\" was used by artists in the '90s. "
   ]
  },
  {
   "cell_type": "markdown",
   "metadata": {},
   "source": [
    "## All 2010s - \"Heart\""
   ]
  },
  {
   "cell_type": "code",
   "execution_count": 28,
   "metadata": {},
   "outputs": [
    {
     "name": "stdout",
     "output_type": "stream",
     "text": [
      "\"heart\" occurs 27 times in your lyrics\n",
      "                   bet he'd understand a  heart  like mine daddy cried\n",
      "                   bet he'd understand a  heart  like mine i'll fly\n",
      "            he'd understand understand a  heart  like mine oh yes\n",
      "                       gets my cold cold  heart  burnin' hotter than a\n",
      "                   chances and wears her  heart  on her sleeve yeah\n",
      "                   chances and wears her  heart  on her sleeve yeah\n",
      "                   chances and wears her  heart  on her sleeve yeah\n",
      "                       funny i broke his  heart  and i took his\n",
      "                           got joy in my  heart  angels on my side\n",
      "                     letting you drag my  heart  around and oh i'm\n",
      "                     letting you drag my  heart  around and oh i'm\n",
      "                     letting you drag my  heart  around and oh i'm\n",
      "                           my name on my  heart  get you wrapped in\n",
      "                         fit in broke my  heart  on the playground mm\n",
      "                     because you left my  heart  on the floor baby\n",
      "                        change i know my  heart  will never be the\n",
      "                        change i know my  heart  will never be the\n",
      "                        change i know my  heart  will never be the\n",
      "                           i had a naive  heart  'cause boy i let\n",
      "                    you trust your rebel  heart  ride it into battle\n",
      "                    you trust your rebel  heart  ride it into battle\n",
      "                    you trust your rebel  heart  ride it into battle\n",
      "                    you trust your rebel  heart  ride it into battle\n",
      "                       love in the sweet  heart  of summer she hopped\n",
      "                       and sang from the  heart  girl you sure got\n",
      "                         my name on your  heart  get you wrapped in\n",
      "                         my name on your  heart  get you wrapped in\n"
     ]
    }
   ],
   "source": [
    "#create list of KWIC concordance lines of \"heart\" from 'all_2010s'\n",
    "kwic_heart_2010s = []\n",
    "for song in all_charts['all_2010s']:\n",
    "    if song.get('tokens'):\n",
    "        kwic_rel_heart2010s = make_kwic('heart', song['tokens'])\n",
    "        kwic_heart_2010s.extend(kwic_rel_heart2010s)\n",
    "        \n",
    "print(f'\"heart\" occurs {len(kwic_heart_2010s)} times in your lyrics')\n",
    "\n",
    "#sort and view them\n",
    "heart_sorted_2010s = sort_kwic(kwic_heart_2010s, ['L1','R1'])\n",
    "print_kwic(heart_sorted_2010s)"
   ]
  },
  {
   "cell_type": "code",
   "execution_count": 29,
   "metadata": {},
   "outputs": [],
   "source": [
    "##heart collocation 2010s\n",
    "heart_2010s_colls = Counter()\n",
    "for song in range(len(all_charts['all_2010s'])):\n",
    "    heart_2010s_colls.update(collocates(tokenize(all_charts['all_2010s'][song]['lyrics']),'heart', [3,3]))"
   ]
  },
  {
   "cell_type": "code",
   "execution_count": 30,
   "metadata": {},
   "outputs": [
    {
     "data": {
      "text/plain": [
       "[('my', 9),\n",
       " ('her', 6),\n",
       " ('I', 5),\n",
       " ('on', 5),\n",
       " ('you', 5),\n",
       " ('the', 4),\n",
       " ('understand', 3),\n",
       " ('a', 3),\n",
       " ('like', 3),\n",
       " ('mine', 3),\n",
       " ('drag', 3),\n",
       " ('around', 3),\n",
       " ('And,', 3),\n",
       " ('oh,', 3),\n",
       " ('know', 3),\n",
       " ('will', 3),\n",
       " ('never', 3),\n",
       " ('be', 3),\n",
       " ('And', 3),\n",
       " ('wears', 3),\n",
       " ('sleeve', 3),\n",
       " (\"he'd\", 2),\n",
       " ('[Verse', 2),\n",
       " ('in', 2),\n",
       " ('Understand', 1)]"
      ]
     },
     "execution_count": 30,
     "metadata": {},
     "output_type": "execute_result"
    }
   ],
   "source": [
    "heart_2010s_colls.most_common(25)"
   ]
  },
  {
   "cell_type": "markdown",
   "metadata": {},
   "source": [
    "Again, with the `all_2010s` chart, \"my\" precedes \"heart\" most frequently. Looking at the KWIC lines, you can see repetition in lyrics which makes \"heart\" stand out."
   ]
  },
  {
   "cell_type": "markdown",
   "metadata": {},
   "source": [
    "## All Female - \"Heart\""
   ]
  },
  {
   "cell_type": "code",
   "execution_count": 41,
   "metadata": {},
   "outputs": [
    {
     "name": "stdout",
     "output_type": "stream",
     "text": [
      "\"heart\" occurs 24 times in your lyrics\n",
      "                   bet he'd understand a  heart  like mine daddy cried\n",
      "                   bet he'd understand a  heart  like mine i'll fly\n",
      "            he'd understand understand a  heart  like mine oh yes\n",
      "                       gets my cold cold  heart  burnin' hotter than a\n",
      "                      knight with a good  heart  soft touch fast horse\n",
      "                       funny i broke his  heart  and i took his\n",
      "                           got joy in my  heart  angels on my side\n",
      "                     letting you drag my  heart  around and oh i'm\n",
      "                     letting you drag my  heart  around and oh i'm\n",
      "                     letting you drag my  heart  around and oh i'm\n",
      "                      you're my world my  heart  my soul and if\n",
      "                         fit in broke my  heart  on the playground mm\n",
      "                     because you left my  heart  on the floor baby\n",
      "                        change i know my  heart  will never be the\n",
      "                        change i know my  heart  will never be the\n",
      "                        change i know my  heart  will never be the\n",
      "                       speak right to my  heart  without saying a word\n",
      "                           i had a naive  heart  'cause boy i let\n",
      "                    you trust your rebel  heart  ride it into battle\n",
      "                    you trust your rebel  heart  ride it into battle\n",
      "                    you trust your rebel  heart  ride it into battle\n",
      "                    you trust your rebel  heart  ride it into battle\n",
      "                      once came from the  heart  one day i gave\n",
      "                 being said between your  heart  and mine the smile\n"
     ]
    }
   ],
   "source": [
    "#create list of KWIC concordance lines of \"heart\" from 'all_female'\n",
    "kwic_heart_f = []\n",
    "for song in all_charts['all_female']:\n",
    "    if song.get('tokens'):\n",
    "        kwic_rel_heart_f = make_kwic('heart', song['tokens'])\n",
    "        kwic_heart_f.extend(kwic_rel_heart_f)\n",
    "        \n",
    "print(f'\"heart\" occurs {len(kwic_heart_f)} times in your lyrics')\n",
    "\n",
    "#sort and view them\n",
    "heart_sorted_f = sort_kwic(kwic_heart_f, ['L1','R1'])\n",
    "print_kwic(heart_sorted_f)"
   ]
  },
  {
   "cell_type": "code",
   "execution_count": 42,
   "metadata": {},
   "outputs": [],
   "source": [
    "##love collocation all female\n",
    "heart_f_colls = Counter()\n",
    "for song in range(len(all_charts['all_female'])):\n",
    "    heart_f_colls.update(collocates(tokenize(all_charts['all_female'][song]['lyrics']),'heart', [3,3]))"
   ]
  },
  {
   "cell_type": "code",
   "execution_count": 43,
   "metadata": {},
   "outputs": [
    {
     "data": {
      "text/plain": [
       "[('my', 10),\n",
       " ('I', 6),\n",
       " ('a', 5),\n",
       " ('mine', 4),\n",
       " ('you', 4),\n",
       " ('the', 3),\n",
       " ('understand', 3),\n",
       " ('like', 3),\n",
       " ('drag', 3),\n",
       " ('around', 3),\n",
       " ('And,', 3),\n",
       " ('oh,', 3),\n",
       " ('know', 3),\n",
       " ('will', 3),\n",
       " ('never', 3),\n",
       " ('be', 3),\n",
       " ('and', 2),\n",
       " (\"he'd\", 2),\n",
       " ('[Verse', 2),\n",
       " ('on', 2),\n",
       " ('right', 1),\n",
       " ('to', 1),\n",
       " ('Without', 1),\n",
       " ('saying', 1),\n",
       " ('said', 1)]"
      ]
     },
     "execution_count": 43,
     "metadata": {},
     "output_type": "execute_result"
    }
   ],
   "source": [
    "heart_f_colls.most_common(25)"
   ]
  },
  {
   "cell_type": "markdown",
   "metadata": {},
   "source": [
    "The `all_female` chart yielded similar results to those found in the `all_2010s` data analyzed above. "
   ]
  },
  {
   "cell_type": "markdown",
   "metadata": {},
   "source": [
    "## All Male - \"Heart\""
   ]
  },
  {
   "cell_type": "code",
   "execution_count": 46,
   "metadata": {},
   "outputs": [
    {
     "name": "stdout",
     "output_type": "stream",
     "text": [
      "\"heart\" occurs 33 times in your lyrics\n",
      "                    heart my achy breaky  heart  he might blow up\n",
      "                    heart my achy breaky  heart  he might blow up\n",
      "                    heart my achy breaky  heart  he might blow up\n",
      "                    heart my achy breaky  heart  he might blow up\n",
      "                    heart my achy breaky  heart  i just don't think\n",
      "                    heart my achy breaky  heart  i just don't think\n",
      "                    heart my achy breaky  heart  i just don't think\n",
      "                    heart my achy breaky  heart  i just don't think\n",
      "                   chances and wears her  heart  on her sleeve yeah\n",
      "                   chances and wears her  heart  on her sleeve yeah\n",
      "                   chances and wears her  heart  on her sleeve yeah\n",
      "                       tied the knot his  heart  wasn't in it he\n",
      "                        allow i cross my  heart  and promise to give\n",
      "                           be i cross my  heart  and promise to give\n",
      "                        to you mmmhmm my  heart  can't take the beating\n",
      "                         feel it from my  heart  from here on after\n",
      "                           my name on my  heart  get you wrapped in\n",
      "                          a prayer in my  heart  i should've been a\n",
      "                       but don't tell my  heart  my achy breaky heart\n",
      "                          if you tell my  heart  my achy breaky heart\n",
      "                       but don't tell my  heart  my achy breaky heart\n",
      "                          if you tell my  heart  my achy breaky heart\n",
      "                       ooh don't tell my  heart  my achy breaky heart\n",
      "                          if you tell my  heart  my achy breaky heart\n",
      "                       man don't tell my  heart  my achy breaky heart\n",
      "                          if you tell my  heart  my achy breaky heart\n",
      "                       love in the sweet  heart  of summer she hopped\n",
      "                        gave me take the  heart  from my chest i'll\n",
      "                       and sang from the  heart  girl you sure got\n",
      "                   the night takin' your  heart  and holdin' it tight\n",
      "                         so open up your  heart  baby we can work\n",
      "                         my name on your  heart  get you wrapped in\n",
      "                         my name on your  heart  get you wrapped in\n"
     ]
    }
   ],
   "source": [
    "#create list of KWIC concordance lines of \"heart\" from 'all_male'\n",
    "kwic_heart_m = []\n",
    "for song in all_charts['all_male']:\n",
    "    if song.get('tokens'):\n",
    "        kwic_rel_heart_m = make_kwic('heart', song['tokens'])\n",
    "        kwic_heart_m.extend(kwic_rel_heart_m)\n",
    "        \n",
    "print(f'\"heart\" occurs {len(kwic_heart_m)} times in your lyrics')\n",
    "\n",
    "#sort and view them\n",
    "heart_sorted_m = sort_kwic(kwic_heart_m, ['L1','R1'])\n",
    "print_kwic(heart_sorted_m)"
   ]
  },
  {
   "cell_type": "code",
   "execution_count": 47,
   "metadata": {},
   "outputs": [],
   "source": [
    "##love collocation all male\n",
    "heart_m_colls = Counter()\n",
    "for song in range(len(all_charts['all_male'])):\n",
    "    heart_m_colls.update(collocates(tokenize(all_charts['all_male'][song]['lyrics']),'heart', [3,3]))"
   ]
  },
  {
   "cell_type": "code",
   "execution_count": 48,
   "metadata": {},
   "outputs": [
    {
     "data": {
      "text/plain": [
       "[('my', 13),\n",
       " ('achy', 8),\n",
       " ('breaky', 8),\n",
       " ('I', 7),\n",
       " ('her', 6),\n",
       " ('the', 5),\n",
       " ('just', 4),\n",
       " (\"don't\", 4),\n",
       " ('He', 4),\n",
       " ('might', 4),\n",
       " ('blow', 4),\n",
       " ('on', 4),\n",
       " ('in', 3),\n",
       " ('it', 3),\n",
       " ('from', 3),\n",
       " ('and', 3),\n",
       " ('And', 3),\n",
       " ('wears', 3),\n",
       " ('sleeve', 3),\n",
       " ('your', 2),\n",
       " ('cross', 2),\n",
       " ('promise', 2),\n",
       " ('to', 2),\n",
       " ('knot,', 1),\n",
       " ('his', 1)]"
      ]
     },
     "execution_count": 48,
     "metadata": {},
     "output_type": "execute_result"
    }
   ],
   "source": [
    "heart_m_colls.most_common(25)"
   ]
  },
  {
   "cell_type": "markdown",
   "metadata": {},
   "source": [
    "Similar to earlier analysis, a majority of the use of \"heart\" stems from Billy Ray Cyrus' song called \"Achy Breaky Heart.\"\n",
    "\n",
    "For the last part of this notebook, I decided to analyze the word \"little\" in the same dictionaries examined above."
   ]
  },
  {
   "cell_type": "markdown",
   "metadata": {},
   "source": [
    "## All 1990s - \"Little\""
   ]
  },
  {
   "cell_type": "code",
   "execution_count": 49,
   "metadata": {},
   "outputs": [
    {
     "name": "stdout",
     "output_type": "stream",
     "text": [
      "\"little\" occurs 45 times in your lyrics\n",
      "                      about livin' and a  little  about love aw haw\n",
      "                      about livin' and a  little  about love well way\n",
      "                      about livin' and a  little  about love a lot\n",
      "                      about livin' and a  little  about love yeaheee that's\n",
      "                      down mama dabbed a  little  bit of perfume on\n",
      "                      sofa she'll move a  little  closer she can't get\n",
      "                        asphalt we got a  little  crazy but we never\n",
      "                        asphalt we got a  little  crazy but we never\n",
      "                     a little reckless a  little  desperate but i think\n",
      "                     two months bought a  little  diamond tonight’s the night\n",
      "                   prerogative to have a  little  fun and ohohoh go\n",
      "                   prerogative to have a  little  fun and ohohoh go\n",
      "                   prerogative to have a  little  fun fun fun ohohoh\n",
      "                       eight years old a  little  girl came through the\n",
      "                          you yeah i'm a  little  nervous i'm not sure\n",
      "                      there's gonna be a  little  one and she says\n",
      "                     no conditions get a  little  outta line i ain't\n",
      "                       might have been a  little  reckless a little desperate\n",
      "                       slow dance make a  little  romance honey it'll be\n",
      "                       slow dance make a  little  romance honey it'll be\n",
      "                       slow dance make a  little  romance honey it'll be\n",
      "                          joe now just a  little  while into abilene pulls\n",
      "                     though she looked a  little  worried and weak she\n",
      "                 little goodbyes oh baby  little  goodbyes so cry to\n",
      "                  machine or there'll be  little  goodbyes with every ring\n",
      "                 statue from japan funny  little  buddha man my little\n",
      "              billy joel little goodbyes  little  goodbyes i'm sure you're\n",
      "                couldn't get much hotter  little  umbrella shaped margaritas coconut\n",
      "                       out no matter how  little  we had but though\n",
      "                 beatles left billy joel  little  goodbyes little goodbyes i'm\n",
      "                    surprised to find my  little  goodbyes empty hangers by\n",
      "                   the bathroom floor my  little  goodbyes unpaid bills by\n",
      "                    surprised to find my  little  goodbyes took your favorite\n",
      "                         took the cat my  little  goodbyes loaded up the\n",
      "                       the story ends my  little  goodbyes took the hourglass\n",
      "                        on your hands my  little  goodbyes took the statue\n",
      "                    little buddha man my  little  goodbyes change my voice\n",
      "                      with every ring my  little  goodbyes left the pictures\n",
      "                        it is 'bout that  little  gal's lovin' but i\n",
      "                        it is 'bout that  little  gal's lovin' but i\n",
      "                        it is 'bout that  little  gal's lovin' but i\n",
      "                    fun watching the vcr  little  goodbyes oh baby little\n",
      "                     rain yeah yeah yeah  little  goodbyes rain yeah yeah\n",
      "                     rain yeah yeah yeah  little  goodbyes hey hey yeah\n",
      "                      hey yeah yeah yeah  little  goodbyes   \n"
     ]
    }
   ],
   "source": [
    "#create list of KWIC concordance lines of \"little\" from 'all_90s'\n",
    "kwic_little_90s = []\n",
    "for song in all_charts['all_90s']:\n",
    "    if song.get('tokens'):\n",
    "        kwic_rel_little90s = make_kwic('little', song['tokens'])\n",
    "        kwic_little_90s.extend(kwic_rel_little90s)\n",
    "        \n",
    "print(f'\"little\" occurs {len(kwic_little_90s)} times in your lyrics')\n",
    "\n",
    "#sort and view them\n",
    "little_sorted_90s = sort_kwic(kwic_little_90s, ['L1','R1'])\n",
    "print_kwic(little_sorted_90s)\n"
   ]
  },
  {
   "cell_type": "code",
   "execution_count": 51,
   "metadata": {},
   "outputs": [],
   "source": [
    "##little collocation 90s\n",
    "little_90s_colls = Counter()\n",
    "for song in range(len(all_charts['all_90s'])):\n",
    "    little_90s_colls.update(collocates(tokenize(all_charts['all_90s'][song]['lyrics']),'little', [3,3]))"
   ]
  },
  {
   "cell_type": "code",
   "execution_count": 52,
   "metadata": {},
   "outputs": [
    {
     "data": {
      "text/plain": [
       "[('a', 23),\n",
       " ('good-byes', 11),\n",
       " ('My', 8),\n",
       " ('and', 6),\n",
       " ('But', 5),\n",
       " ('[Chorus', 5),\n",
       " ('the', 5),\n",
       " ('have', 4),\n",
       " (\"livin'\", 4),\n",
       " ('about', 4),\n",
       " ('love', 4),\n",
       " ('we', 3),\n",
       " ('to', 3),\n",
       " ('fun', 3),\n",
       " (\"I'm\", 3),\n",
       " ('Took', 3),\n",
       " ('dance', 3),\n",
       " ('make', 3),\n",
       " ('romance', 3),\n",
       " ('Honey', 3),\n",
       " (\"it'll\", 3),\n",
       " ('is', 3),\n",
       " (\"'bout\", 3),\n",
       " ('that', 3),\n",
       " (\"gal's\", 3)]"
      ]
     },
     "execution_count": 52,
     "metadata": {},
     "output_type": "execute_result"
    }
   ],
   "source": [
    "little_90s_colls.most_common(25)"
   ]
  },
  {
   "cell_type": "markdown",
   "metadata": {},
   "source": [
    "\"Little\" used most frequently around \"goodbyes\", \"love\", and \"romance\"."
   ]
  },
  {
   "cell_type": "markdown",
   "metadata": {},
   "source": [
    "## All 2010s - \"Little\""
   ]
  },
  {
   "cell_type": "code",
   "execution_count": 54,
   "metadata": {},
   "outputs": [
    {
     "name": "stdout",
     "output_type": "stream",
     "text": [
      "\"little\" occurs 62 times in your lyrics\n",
      "                                          little  kid in a small\n",
      "                            face i got a  little  bit stronger riding in\n",
      "                        it i'm getting a  little  bit stronger just a\n",
      "                     bit stronger just a  little  bit stronger and i'm\n",
      "                            days i get a  little  bit stronger it doesn't\n",
      "                            days i get a  little  bit stronger getting along\n",
      "                            days i get a  little  bit stronger and just\n",
      "                     stronger and just a  little  bit stronger a little\n",
      "                   little bit stronger a  little  bit a little bit\n",
      "                          a little bit a  little  bit a little bit\n",
      "                          a little bit a  little  bit stronger get a\n",
      "                      bit stronger get a  little  bit stronger  \n",
      "                         the grain and a  little  bit of money we\n",
      "                      house might have a  little  dirt on my boots\n",
      "                     lights might have a  little  dirt on my boots\n",
      "                      them tonight got a  little  dirt on my boots\n",
      "                      porch might have a  little  dirt on my boots\n",
      "                     lights might have a  little  dirt on my boots\n",
      "                      them tonight got a  little  dirt on my boots\n",
      "                          so fancy got a  little  dirt on my boots\n",
      "                     lights might have a  little  dirt on my boots\n",
      "                      them tonight got a  little  dirt on my boots\n",
      "                          my boots got a  little  dirt on my boots\n",
      "                          my boots got a  little  dirt on my boots\n",
      "                           on my boots a  little  dirty dancing blue collar\n",
      "                        they said just a  little  faith it'll all get\n",
      "                          the fire had a  little  fun hadn’t had a\n",
      "                      my condition got a  little  milehigh flight attention it's\n",
      "                      my condition got a  little  milehigh flight attention it's\n",
      "                      my condition got a  little  milehigh flight attention it's\n",
      "                    tonight might have a  little  mud on my wheels\n",
      "                    tonight might have a  little  mud on my wheels\n",
      "                    tonight might have a  little  mud on my wheels\n",
      "                           used to get a  little  respect now we're lucky\n",
      "                           used to get a  little  respect now we're lucky\n",
      "                           used to get a  little  respect now we're lucky\n",
      "                       and narrow gets a  little  too straight roll up\n",
      "                       and narrow gets a  little  too straight roll up\n",
      "                       and narrow gets a  little  too straight roll up\n",
      "                            a smile in a  little  while baby blue looks\n",
      "                through the middle every  little  farm town with you\n",
      "                through the middle every  little  farm town with you\n",
      "                through the middle every  little  farm town with you\n",
      "                through the middle every  little  farm town with you\n",
      "                    soaked in wine every  little  thing i remember every\n",
      "                  thing i remember every  little  thing the high the\n",
      "                      the sting of every  little  thing guess you forgot\n",
      "                       him no more every  little  thing i remember every\n",
      "                  thing i remember every  little  thing the high the\n",
      "                      the sting of every  little  thing i remember every\n",
      "                  thing i remember every  little  thing the high the\n",
      "                      the sting of every  little  thing they say time\n",
      "                   to not remember every  little  thing i remember every\n",
      "                  thing i remember every  little  thing the high the\n",
      "                   shine the sting every  little  thing i remember every\n",
      "                  thing i remember every  little  thing i'm haunted by\n",
      "                   the memories of every  little  thing the high the\n",
      "                   shine the sting every  little  thing   \n",
      "                wine champagne all night  little  scotch on the rocks\n",
      "                     you it ain't pretty  little  thing hottie or baby\n",
      "                    those stairs in that  little  back bedroom is where\n",
      "                     don't forget all us  little  folks and when you\n"
     ]
    }
   ],
   "source": [
    "#create list of KWIC concordance lines of \"little\" from 'all_2010s'\n",
    "kwic_little_2010s = []\n",
    "for song in all_charts['all_2010s']:\n",
    "    if song.get('tokens'):\n",
    "        kwic_rel_little2010s = make_kwic('little', song['tokens'])\n",
    "        kwic_little_2010s.extend(kwic_rel_little2010s)\n",
    "        \n",
    "print(f'\"little\" occurs {len(kwic_little_2010s)} times in your lyrics')\n",
    "\n",
    "#sort and view them\n",
    "little_sorted_2010s = sort_kwic(kwic_little_2010s, ['L1','R1'])\n",
    "print_kwic(little_sorted_2010s)"
   ]
  },
  {
   "cell_type": "code",
   "execution_count": 55,
   "metadata": {},
   "outputs": [],
   "source": [
    "##little collocation 90s\n",
    "little_2010s_colls = Counter()\n",
    "for song in range(len(all_charts['all_2010s'])):\n",
    "    little_2010s_colls.update(collocates(tokenize(all_charts['all_2010s'][song]['lyrics']),'little', [3,3]))"
   ]
  },
  {
   "cell_type": "code",
   "execution_count": 56,
   "metadata": {},
   "outputs": [
    {
     "data": {
      "text/plain": [
       "[('a', 35),\n",
       " ('bit', 15),\n",
       " ('thing', 14),\n",
       " ('I', 14),\n",
       " ('on', 14),\n",
       " ('my', 14),\n",
       " ('stronger', 12),\n",
       " ('remember', 11),\n",
       " ('dirt', 11),\n",
       " ('Every', 10),\n",
       " ('Got', 9),\n",
       " ('every', 8),\n",
       " ('Might', 8),\n",
       " ('have', 8),\n",
       " ('A', 7),\n",
       " ('get', 6),\n",
       " ('[Chorus]', 6),\n",
       " ('the', 6),\n",
       " ('The', 5),\n",
       " ('high,', 5),\n",
       " ('sting', 5),\n",
       " ('little', 4),\n",
       " ('middle', 4),\n",
       " ('farm', 4),\n",
       " ('town', 4)]"
      ]
     },
     "execution_count": 56,
     "metadata": {},
     "output_type": "execute_result"
    }
   ],
   "source": [
    "little_2010s_colls.most_common(25)"
   ]
  },
  {
   "cell_type": "markdown",
   "metadata": {},
   "source": [
    "The words most frequently used around \"little\" are \"a\" (as in \"a little\" X), \"bit\" (as in \"a little bit\"), and \"thing\" (as in \"every little thing\").  "
   ]
  },
  {
   "cell_type": "markdown",
   "metadata": {},
   "source": [
    "## All Female - \"Little\""
   ]
  },
  {
   "cell_type": "code",
   "execution_count": 59,
   "metadata": {},
   "outputs": [
    {
     "name": "stdout",
     "output_type": "stream",
     "text": [
      "\"little\" occurs 64 times in your lyrics\n",
      "                                          little  kid in a small\n",
      "                      down mama dabbed a  little  bit of perfume on\n",
      "                            face i got a  little  bit stronger riding in\n",
      "                        it i'm getting a  little  bit stronger just a\n",
      "                     bit stronger just a  little  bit stronger and i'm\n",
      "                            days i get a  little  bit stronger it doesn't\n",
      "                            days i get a  little  bit stronger getting along\n",
      "                            days i get a  little  bit stronger and just\n",
      "                     stronger and just a  little  bit stronger a little\n",
      "                   little bit stronger a  little  bit a little bit\n",
      "                          a little bit a  little  bit a little bit\n",
      "                          a little bit a  little  bit stronger get a\n",
      "                      bit stronger get a  little  bit stronger  \n",
      "                     a little reckless a  little  desperate but i think\n",
      "                        they said just a  little  faith it'll all get\n",
      "                   prerogative to have a  little  fun and ohohoh go\n",
      "                   prerogative to have a  little  fun and ohohoh go\n",
      "                   prerogative to have a  little  fun fun fun ohohoh\n",
      "                          you yeah i'm a  little  nervous i'm not sure\n",
      "                     no conditions get a  little  outta line i ain't\n",
      "                       might have been a  little  reckless a little desperate\n",
      "                           used to get a  little  respect now we're lucky\n",
      "                           used to get a  little  respect now we're lucky\n",
      "                           used to get a  little  respect now we're lucky\n",
      "                       and narrow gets a  little  too straight roll up\n",
      "                       and narrow gets a  little  too straight roll up\n",
      "                       and narrow gets a  little  too straight roll up\n",
      "                          joe now just a  little  while into abilene pulls\n",
      "                     though she looked a  little  worried and weak she\n",
      "                 little goodbyes oh baby  little  goodbyes so cry to\n",
      "                  machine or there'll be  little  goodbyes with every ring\n",
      "                    soaked in wine every  little  thing i remember every\n",
      "                  thing i remember every  little  thing the high the\n",
      "                      the sting of every  little  thing guess you forgot\n",
      "                       him no more every  little  thing i remember every\n",
      "                  thing i remember every  little  thing the high the\n",
      "                      the sting of every  little  thing i remember every\n",
      "                  thing i remember every  little  thing the high the\n",
      "                      the sting of every  little  thing they say time\n",
      "                   to not remember every  little  thing i remember every\n",
      "                  thing i remember every  little  thing the high the\n",
      "                   shine the sting every  little  thing i remember every\n",
      "                  thing i remember every  little  thing i'm haunted by\n",
      "                   the memories of every  little  thing the high the\n",
      "                   shine the sting every  little  thing   \n",
      "                 statue from japan funny  little  buddha man my little\n",
      "              billy joel little goodbyes  little  goodbyes i'm sure you're\n",
      "                       out no matter how  little  we had but though\n",
      "                 beatles left billy joel  little  goodbyes little goodbyes i'm\n",
      "                    surprised to find my  little  goodbyes empty hangers by\n",
      "                   the bathroom floor my  little  goodbyes unpaid bills by\n",
      "                    surprised to find my  little  goodbyes took your favorite\n",
      "                         took the cat my  little  goodbyes loaded up the\n",
      "                       the story ends my  little  goodbyes took the hourglass\n",
      "                        on your hands my  little  goodbyes took the statue\n",
      "                    little buddha man my  little  goodbyes change my voice\n",
      "                      with every ring my  little  goodbyes left the pictures\n",
      "                     you it ain't pretty  little  thing hottie or baby\n",
      "                    those stairs in that  little  back bedroom is where\n",
      "                     don't forget all us  little  folks and when you\n",
      "                    fun watching the vcr  little  goodbyes oh baby little\n",
      "                     rain yeah yeah yeah  little  goodbyes rain yeah yeah\n",
      "                     rain yeah yeah yeah  little  goodbyes hey hey yeah\n",
      "                      hey yeah yeah yeah  little  goodbyes   \n"
     ]
    }
   ],
   "source": [
    "#create list of KWIC concordance lines of \"little\" from 'all_female'\n",
    "kwic_little_f = []\n",
    "for song in all_charts['all_female']:\n",
    "    if song.get('tokens'):\n",
    "        kwic_rel_little_f = make_kwic('little', song['tokens'])\n",
    "        kwic_little_f.extend(kwic_rel_little_f)\n",
    "        \n",
    "print(f'\"little\" occurs {len(kwic_little_f)} times in your lyrics')\n",
    "\n",
    "#sort and view them\n",
    "little_sorted_f = sort_kwic(kwic_little_f, ['L1','R1'])\n",
    "print_kwic(little_sorted_f)"
   ]
  },
  {
   "cell_type": "code",
   "execution_count": 61,
   "metadata": {},
   "outputs": [],
   "source": [
    "##little collocation all female\n",
    "little_f_colls = Counter()\n",
    "for song in range(len(all_charts['all_female'])):\n",
    "    little_f_colls.update(collocates(tokenize(all_charts['all_female'][song]['lyrics']),'little', [3,3]))"
   ]
  },
  {
   "cell_type": "code",
   "execution_count": 62,
   "metadata": {},
   "outputs": [
    {
     "data": {
      "text/plain": [
       "[('a', 26),\n",
       " ('I', 16),\n",
       " ('bit', 15),\n",
       " ('thing', 14),\n",
       " ('stronger', 12),\n",
       " ('good-byes', 11),\n",
       " ('remember', 11),\n",
       " ('every', 10),\n",
       " ('My', 8),\n",
       " ('to', 6),\n",
       " ('[Chorus]', 6),\n",
       " ('the', 6),\n",
       " ('little', 6),\n",
       " ('get', 6),\n",
       " ('Every', 6),\n",
       " ('A', 6),\n",
       " ('[Chorus', 5),\n",
       " (\"I'm\", 5),\n",
       " ('The', 5),\n",
       " ('high,', 5),\n",
       " ('sting', 5),\n",
       " ('have', 4),\n",
       " ('Now', 4),\n",
       " ('Get', 3),\n",
       " ('fun', 3)]"
      ]
     },
     "execution_count": 62,
     "metadata": {},
     "output_type": "execute_result"
    }
   ],
   "source": [
    "little_f_colls.most_common(25)"
   ]
  },
  {
   "cell_type": "markdown",
   "metadata": {},
   "source": [
    "Again, the words surrounding \"little\" most frequently are \"a\" (as in \"a little\" X), \"bit\" (as in \"a little bit\"), and \"thing\" (as in \"every little thing\"). In this `all_female` chart, we also see the reference to \"goodbyes\" and \"remember\". "
   ]
  },
  {
   "cell_type": "markdown",
   "metadata": {},
   "source": [
    "## All Male - \"Little\""
   ]
  },
  {
   "cell_type": "code",
   "execution_count": 65,
   "metadata": {},
   "outputs": [
    {
     "name": "stdout",
     "output_type": "stream",
     "text": [
      "\"little\" occurs 43 times in your lyrics\n",
      "                      about livin' and a  little  about love aw haw\n",
      "                      about livin' and a  little  about love well way\n",
      "                      about livin' and a  little  about love a lot\n",
      "                      about livin' and a  little  about love yeaheee that's\n",
      "                         the grain and a  little  bit of money we\n",
      "                      sofa she'll move a  little  closer she can't get\n",
      "                        asphalt we got a  little  crazy but we never\n",
      "                        asphalt we got a  little  crazy but we never\n",
      "                     two months bought a  little  diamond tonight’s the night\n",
      "                      house might have a  little  dirt on my boots\n",
      "                     lights might have a  little  dirt on my boots\n",
      "                      them tonight got a  little  dirt on my boots\n",
      "                      porch might have a  little  dirt on my boots\n",
      "                     lights might have a  little  dirt on my boots\n",
      "                      them tonight got a  little  dirt on my boots\n",
      "                          so fancy got a  little  dirt on my boots\n",
      "                     lights might have a  little  dirt on my boots\n",
      "                      them tonight got a  little  dirt on my boots\n",
      "                          my boots got a  little  dirt on my boots\n",
      "                          my boots got a  little  dirt on my boots\n",
      "                           on my boots a  little  dirty dancing blue collar\n",
      "                          the fire had a  little  fun hadn’t had a\n",
      "                       eight years old a  little  girl came through the\n",
      "                      my condition got a  little  milehigh flight attention it's\n",
      "                      my condition got a  little  milehigh flight attention it's\n",
      "                      my condition got a  little  milehigh flight attention it's\n",
      "                    tonight might have a  little  mud on my wheels\n",
      "                    tonight might have a  little  mud on my wheels\n",
      "                    tonight might have a  little  mud on my wheels\n",
      "                      there's gonna be a  little  one and she says\n",
      "                       slow dance make a  little  romance honey it'll be\n",
      "                       slow dance make a  little  romance honey it'll be\n",
      "                       slow dance make a  little  romance honey it'll be\n",
      "                            a smile in a  little  while baby blue looks\n",
      "                through the middle every  little  farm town with you\n",
      "                through the middle every  little  farm town with you\n",
      "                through the middle every  little  farm town with you\n",
      "                through the middle every  little  farm town with you\n",
      "                couldn't get much hotter  little  umbrella shaped margaritas coconut\n",
      "                wine champagne all night  little  scotch on the rocks\n",
      "                        it is 'bout that  little  gal's lovin' but i\n",
      "                        it is 'bout that  little  gal's lovin' but i\n",
      "                        it is 'bout that  little  gal's lovin' but i\n"
     ]
    }
   ],
   "source": [
    "#create list of KWIC concordance lines of \"little\" from 'all_male'\n",
    "kwic_little_m = []\n",
    "for song in all_charts['all_male']:\n",
    "    if song.get('tokens'):\n",
    "        kwic_rel_little_m = make_kwic('little', song['tokens'])\n",
    "        kwic_little_m.extend(kwic_rel_little_m)\n",
    "        \n",
    "print(f'\"little\" occurs {len(kwic_little_m)} times in your lyrics')\n",
    "\n",
    "#sort and view them\n",
    "little_sorted_m = sort_kwic(kwic_little_m, ['L1','R1'])\n",
    "print_kwic(little_sorted_m)"
   ]
  },
  {
   "cell_type": "code",
   "execution_count": 66,
   "metadata": {},
   "outputs": [],
   "source": [
    "##little collocation all male\n",
    "little_m_colls = Counter()\n",
    "for song in range(len(all_charts['all_male'])):\n",
    "    little_m_colls.update(collocates(tokenize(all_charts['all_male'][song]['lyrics']),'little', [3,3]))"
   ]
  },
  {
   "cell_type": "code",
   "execution_count": 67,
   "metadata": {},
   "outputs": [
    {
     "data": {
      "text/plain": [
       "[('a', 32),\n",
       " ('on', 14),\n",
       " ('my', 14),\n",
       " ('dirt', 11),\n",
       " ('Got', 9),\n",
       " ('Might', 8),\n",
       " ('have', 8),\n",
       " ('and', 6),\n",
       " ('the', 5),\n",
       " (\"livin'\", 4),\n",
       " ('about', 4),\n",
       " ('love', 4),\n",
       " ('middle', 4),\n",
       " ('Every', 4),\n",
       " ('farm', 4),\n",
       " ('town', 4),\n",
       " ('with', 4),\n",
       " ('A', 3),\n",
       " ('dance', 3),\n",
       " ('make', 3),\n",
       " ('romance', 3),\n",
       " ('Honey', 3),\n",
       " (\"it'll\", 3),\n",
       " ('is', 3),\n",
       " (\"'bout\", 3)]"
      ]
     },
     "execution_count": 67,
     "metadata": {},
     "output_type": "execute_result"
    }
   ],
   "source": [
    "little_m_colls.most_common(25)"
   ]
  },
  {
   "cell_type": "markdown",
   "metadata": {},
   "source": [
    "With the `all_male` chart, there is a lot more lyrical variety with the word \"little\". More specifically, you have words such as \"dance\", \"dirt\", \"love\", \"farm\", \"town\", and \"romance\" surrounding \"little\" - which is much more distinguisable than those collocates around \"little\" in the `all_female` corpus. "
   ]
  }
 ],
 "metadata": {
  "kernelspec": {
   "display_name": "Python 3",
   "language": "python",
   "name": "python3"
  },
  "language_info": {
   "codemirror_mode": {
    "name": "ipython",
    "version": 3
   },
   "file_extension": ".py",
   "mimetype": "text/x-python",
   "name": "python",
   "nbconvert_exporter": "python",
   "pygments_lexer": "ipython3",
   "version": "3.7.3"
  }
 },
 "nbformat": 4,
 "nbformat_minor": 2
}
